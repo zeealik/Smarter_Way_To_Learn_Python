{
 "cells": [
  {
   "cell_type": "markdown",
   "metadata": {},
   "source": [
    "# Classes: Starting to build the structure"
   ]
  },
  {
   "cell_type": "markdown",
   "metadata": {},
   "source": [
    "The first line of code…\n",
    "\n",
    "##### class Patient():\n",
    "\n",
    "…tells Python that we're creating a class, a kind of template. The template\n",
    "will structure each instance, that is, each individual patient record.\n",
    "\n",
    "To begin with, we know that each patient's record contains a last name. So\n",
    "let's start there:"
   ]
  },
  {
   "cell_type": "code",
   "execution_count": 2,
   "metadata": {},
   "outputs": [
    {
     "ename": "SyntaxError",
     "evalue": "unexpected EOF while parsing (<ipython-input-2-c774ac09f4f3>, line 2)",
     "output_type": "error",
     "traceback": [
      "\u001b[1;36m  File \u001b[1;32m\"<ipython-input-2-c774ac09f4f3>\"\u001b[1;36m, line \u001b[1;32m2\u001b[0m\n\u001b[1;33m    def __init__(self, last_name):\u001b[0m\n\u001b[1;37m                                  ^\u001b[0m\n\u001b[1;31mSyntaxError\u001b[0m\u001b[1;31m:\u001b[0m unexpected EOF while parsing\n"
     ]
    }
   ],
   "source": [
    "class Patient():\n",
    "    def __init__(self, last_name):\n",
    "\n",
    "        \n",
    "# Line 2 creates an attribute—a chunk of information to be provided about each patient:    \n",
    "# error due to no body of function."
   ]
  },
  {
   "cell_type": "markdown",
   "metadata": {},
   "source": [
    "# When you become a full-fledged computer scientist, you can come back and\n",
    "explain to me the deeper meaning of\n",
    "\n",
    "def __init__(self,…. \n",
    "\n",
    "In the meantime, let's just say that it's always\n",
    "the same abracadabra:\n",
    "\n",
    "It's the keyword def…\n",
    "\n",
    "      class Patient():\n",
    "          def __init__(self, last_name):\n",
    "\n",
    "…followed by 2 underscores, the keyword init, then 2 more\n",
    "underscores…\n",
    "\n",
    "     class Patient():\n",
    "         def __init__(self, last_name):\n",
    "\n",
    "…an opening parenthesis, the keyword self, and a comma…\n",
    "\n",
    "      class Patient():\n",
    "          def __init__(self, last_name):\n",
    "\n",
    "Then comes the name of an attribute to include in each individual patient\n",
    "record. In this case, it's the last name of the patient:\n",
    "\n",
    "      class Patient():\n",
    "          def __init__(self, last_name):\n",
    "\n",
    "Line 2 ends with a closing parenthesis and colon:\n",
    "\n",
    "      class Patient():\n",
    "          def __init__(self, last_name):\n",
    "\n",
    "Note that line 2 is indented.\n"
   ]
  },
  {
   "cell_type": "code",
   "execution_count": null,
   "metadata": {},
   "outputs": [],
   "source": []
  }
 ],
 "metadata": {
  "kernelspec": {
   "display_name": "Python 3",
   "language": "python",
   "name": "python3"
  },
  "language_info": {
   "codemirror_mode": {
    "name": "ipython",
    "version": 3
   },
   "file_extension": ".py",
   "mimetype": "text/x-python",
   "name": "python",
   "nbconvert_exporter": "python",
   "pygments_lexer": "ipython3",
   "version": "3.7.1"
  }
 },
 "nbformat": 4,
 "nbformat_minor": 2
}
