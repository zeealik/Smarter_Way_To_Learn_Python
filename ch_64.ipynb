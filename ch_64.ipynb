{
 "cells": [
  {
   "cell_type": "markdown",
   "metadata": {},
   "source": [
    "# Data files: Retrieving data"
   ]
  },
  {
   "cell_type": "markdown",
   "metadata": {},
   "source": [
    "There's a text file, greet.txt. \n",
    "\n",
    "Its entire contents: the string \"Hello world!\"\n",
    "How do we retrieve those contents? First we open the file:"
   ]
  },
  {
   "cell_type": "code",
   "execution_count": 4,
   "metadata": {},
   "outputs": [],
   "source": [
    "# with open(\"greet.txt\", \"r\") as f:\n",
    "\n",
    "# Note that the only difference between opening a file to write to it and\n",
    "# opening a file to read from it is this…\n",
    "\n",
    "# We specify \"r\" for \"read\" instead of \"w\" for \"write.\"\n",
    "# Then we read the file, loading its contents into a variable…\n",
    "\n",
    "with open(\"greet.txt\", \"r\") as f:\n",
    "    text_of_file = f.read()"
   ]
  },
  {
   "cell_type": "code",
   "execution_count": 5,
   "metadata": {},
   "outputs": [
    {
     "data": {
      "text/plain": [
       "'Hello, world!'"
      ]
     },
     "execution_count": 5,
     "metadata": {},
     "output_type": "execute_result"
    }
   ],
   "source": [
    "text_of_file"
   ]
  },
  {
   "cell_type": "markdown",
   "metadata": {},
   "source": [
    "The string \"Hello, World!\" is now stored in the variable text_of_file.\n",
    "Note that text_of_file is a name I made up. You could use any legal\n",
    "variable name.\n",
    "If you write…\n",
    "\n",
    "    print(text_of_file)\n",
    "\n",
    "…Python displays…\n",
    "\n",
    "    Hello, World!"
   ]
  },
  {
   "cell_type": "code",
   "execution_count": 6,
   "metadata": {},
   "outputs": [
    {
     "name": "stdout",
     "output_type": "stream",
     "text": [
      "Hello, world!\n"
     ]
    }
   ],
   "source": [
    "print(text_of_file)"
   ]
  },
  {
   "cell_type": "code",
   "execution_count": 9,
   "metadata": {},
   "outputs": [],
   "source": [
    "# The read-file mode is the default for the open statement, so if you're\n",
    "# opening a file to read data, you can, if you like, skip the \"r\" and just write…\n",
    "\n",
    "with open(\"greet.txt\") as f:\n",
    "    text_of_file = f.read()"
   ]
  }
 ],
 "metadata": {
  "kernelspec": {
   "display_name": "Python 3",
   "language": "python",
   "name": "python3"
  },
  "language_info": {
   "codemirror_mode": {
    "name": "ipython",
    "version": 3
   },
   "file_extension": ".py",
   "mimetype": "text/x-python",
   "name": "python",
   "nbconvert_exporter": "python",
   "pygments_lexer": "ipython3",
   "version": "3.7.1"
  }
 },
 "nbformat": 4,
 "nbformat_minor": 2
}
