{
 "cells": [
  {
   "cell_type": "markdown",
   "metadata": {},
   "source": [
    "# CSV files: Picking information out of them"
   ]
  },
  {
   "cell_type": "markdown",
   "metadata": {},
   "source": [
    "We exported an Excel spreadsheet…\n",
    "\n",
    "…into a CSV file named competitions.csv…\n",
    "\n",
    "Year,Event,Winner\n",
    "\n",
    "       1995,Best-Kept Lawn,None\n",
    "\n",
    "       1999,Gobstones,Welch Nationional\n",
    "\n",
    "       2006,World Cup,Burkina Faso"
   ]
  },
  {
   "cell_type": "markdown",
   "metadata": {},
   "source": [
    "Using a function of the Python cvs module called reader, we read the\n",
    "contents of the file. \n",
    "\n",
    "Looping through it line-by-line, we translated the contents\n",
    "into a Python list named potter_competitions:\n",
    "\n",
    "    ['Year', 'Event', 'Winner', '1995', 'Best-Kept Lawn', 'None', '1999', 'Gobstones','Welch National', '2006', 'World Cup', 'Burkina Faso']"
   ]
  },
  {
   "cell_type": "markdown",
   "metadata": {},
   "source": [
    "Suppose a user wants to enter the name of a competition to find out the\n",
    "winner. We can use the list to do that.\n",
    "\n",
    "We'll need a Python method that's new to you.\n",
    "You've learned how to find an element in a list by specifying its index\n",
    "number. For example, in the list named potter_competitions, if you\n",
    "write…"
   ]
  },
  {
   "cell_type": "code",
   "execution_count": 3,
   "metadata": {},
   "outputs": [
    {
     "name": "stdout",
     "output_type": "stream",
     "text": [
      "Best-Kept Lawn\n"
     ]
    }
   ],
   "source": [
    "import csv\n",
    "\n",
    "with open(\"competitions.csv\") as f:\n",
    "    \n",
    "#     You've called the function csv.reader, with the argument, (f), and\n",
    "#     assigned the file content that comes back from the function to a variable,\n",
    "#     contents_of_f.\n",
    "      contents_of_f = csv.reader(f)\n",
    "    \n",
    "with open(\"competitions.csv\") as f:\n",
    "    contents_of_f = csv.reader(f)\n",
    "    potter_competitions = []\n",
    "    for each_line in contents_of_f:\n",
    "        potter_competitions += each_line\n",
    "\n",
    "print(potter_competitions[4])"
   ]
  },
  {
   "cell_type": "markdown",
   "metadata": {},
   "source": [
    "There's also a method for finding the index number of an element. If you\n",
    "write…\n",
    "\n"
   ]
  },
  {
   "cell_type": "code",
   "execution_count": 5,
   "metadata": {},
   "outputs": [],
   "source": [
    "index_number_of_target = potter_competitions.index(\"Best-Kept Lawn\")"
   ]
  },
  {
   "cell_type": "markdown",
   "metadata": {},
   "source": [
    "…Python looks through the list and finds that the index number of \"Best-\n",
    "Kept Lawn\" is 4.\n",
    "\n",
    "    Year,Event,Winner\n",
    "    1995,Best-Kept Lawn,None\n",
    "    1999,Gobstones,Welch Nationional\n",
    "    2006,World Cup,Burkina Faso\n",
    "\n",
    "The number is stored in the variable named\n",
    "index_number_of_target.\n",
    "\n",
    "Let's say the user wants to know the winner of the Best-Kept Lawn\n",
    "competition.\n",
    "\n",
    "We begin by finding the index number of \"Best-Kept Lawn\" in the list—4.\n",
    "\n",
    "    Year,Event,Winner\n",
    "    1995,Best-Kept Lawn,None\n",
    "    1999,Gobstones,Welch Nationional\n",
    "    2006,World Cup,Burkina Faso\n",
    "\n",
    "Then, knowing the winner of that competition is the next element in the list,\n",
    "we can look it up by specifying an index number that's one more than the index\n",
    "number of the competition—5.\n",
    "\n",
    "    Year,Event,Winner\n",
    "    1995,Best-Kept Lawn,None\n",
    "    1999,Gobstones,Welch Nationional\n",
    "    2006,World Cup,Burkina Faso\n",
    "\n",
    "The element with an index number of 5 is None.\n",
    "Line 1 gets the user's input and stores it in the variable named target:"
   ]
  },
  {
   "cell_type": "code",
   "execution_count": 9,
   "metadata": {},
   "outputs": [
    {
     "name": "stdout",
     "output_type": "stream",
     "text": [
      "Enter the name of a competition:Best-Kept Lawn\n",
      "The winner was None\n"
     ]
    }
   ],
   "source": [
    "target = input(\"Enter the name of a competition:\")\n",
    "index_number_of_target = potter_competitions.index(target)\n",
    "index_number_of_winner = index_number_of_target + 1\n",
    "the_winner = potter_competitions[index_number_of_winner]\n",
    "print(\"The winner was \" + the_winner)"
   ]
  },
  {
   "cell_type": "markdown",
   "metadata": {},
   "source": [
    "Line 3 adds 1 to the index number of the competition. This is the index\n",
    "number of the winner. It is stored in the variable named index_number_of_winner\n",
    "\n",
    "Line 4 looks up the name of the winner and stores it in the variable named\n",
    "the_winner\n",
    "\n",
    "Line 5 displays the name of the winner\n",
    "\n",
    "If the user has entered \"Best-Kept Lawn,\" the code finds that its index\n",
    "number is 4, looks up the element whose index number is 5, and displays…\n",
    "\n",
    "The winner was None"
   ]
  },
  {
   "cell_type": "code",
   "execution_count": null,
   "metadata": {},
   "outputs": [],
   "source": []
  }
 ],
 "metadata": {
  "kernelspec": {
   "display_name": "Python 3",
   "language": "python",
   "name": "python3"
  },
  "language_info": {
   "codemirror_mode": {
    "name": "ipython",
    "version": 3
   },
   "file_extension": ".py",
   "mimetype": "text/x-python",
   "name": "python",
   "nbconvert_exporter": "python",
   "pygments_lexer": "ipython3",
   "version": "3.7.1"
  }
 },
 "nbformat": 4,
 "nbformat_minor": 2
}
