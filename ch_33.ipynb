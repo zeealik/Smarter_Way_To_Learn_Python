{
 "cells": [
  {
   "cell_type": "markdown",
   "metadata": {},
   "source": [
    "# Dictionaries: Looping through key-value pairs"
   ]
  },
  {
   "cell_type": "markdown",
   "metadata": {},
   "source": [
    "You've looped through a dictionary finding all its values, and you've looped\n",
    "through a dictionary finding all its keys. Now I'll show you how to loop through\n",
    "a dictionary finding both keys and values.\n",
    "This is the dictionary we've been working with:"
   ]
  },
  {
   "cell_type": "code",
   "execution_count": 1,
   "metadata": {},
   "outputs": [],
   "source": [
    "customer_29876 = {\n",
    "    \"first name\": \"David\",\n",
    "    \"last name\": \"Elliott\",\n",
    "    \"address\": \"4803 Wellesley St.\"\n",
    "}"
   ]
  },
  {
   "cell_type": "markdown",
   "metadata": {},
   "source": [
    "Here's the code for looping through the dictionary and printing all the keys\n",
    "and values:\n"
   ]
  },
  {
   "cell_type": "code",
   "execution_count": 7,
   "metadata": {},
   "outputs": [
    {
     "name": "stdout",
     "output_type": "stream",
     "text": [
      "The customer's first name is David\n",
      "The customer's last name is Elliott\n",
      "The customer's address is 4803 Wellesley St.\n"
     ]
    }
   ],
   "source": [
    "# …you code 2 variables (your choice of names), one for keys and another for values:\n",
    "\n",
    "for each_key, each_value in customer_29876.items(): \n",
    "     print(\"The customer's \" + each_key + \" is \" + each_value)                            \n",
    "\n",
    "# And the keyword that comes before the empty parentheses changes. Now it's items."
   ]
  },
  {
   "cell_type": "code",
   "execution_count": null,
   "metadata": {},
   "outputs": [],
   "source": []
  }
 ],
 "metadata": {
  "kernelspec": {
   "display_name": "Python 3",
   "language": "python",
   "name": "python3"
  },
  "language_info": {
   "codemirror_mode": {
    "name": "ipython",
    "version": 3
   },
   "file_extension": ".py",
   "mimetype": "text/x-python",
   "name": "python",
   "nbconvert_exporter": "python",
   "pygments_lexer": "ipython3",
   "version": "3.7.1"
  }
 },
 "nbformat": 4,
 "nbformat_minor": 2
}
