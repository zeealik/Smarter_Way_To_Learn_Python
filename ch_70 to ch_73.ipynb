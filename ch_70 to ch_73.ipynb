{
 "cells": [
  {
   "cell_type": "markdown",
   "metadata": {},
   "source": [
    "# CSV files: Loading information into them. Part 1"
   ]
  },
  {
   "cell_type": "markdown",
   "metadata": {},
   "source": [
    "The csv module contains a function that reads a CSV file. It also contains a\n",
    "function that allows you to write to a CSV file.\n",
    "You start by importing the module:\n",
    "\n",
    "    import csv\n",
    "\n",
    "If you've already imported the csv module for some other operation, you\n",
    "don't have to do it again.\n",
    "Then you open (or create) the file:\n",
    "\n",
    "    import csv\n",
    "    with open(\"whatever.csv\", \"w\", newline=\"\") as f:\n",
    "\n",
    "This statement opens a file so you can write to it. The statement is similar to\n",
    "the code you learned to open a text file for writing. It begins with open…\n",
    "\n",
    "    with open(\"whatever.csv\", \"w\", newline=\"\") as f:\n",
    "\n",
    "…then the name of the file…\n",
    "\n",
    "    with open(\"whatever.csv\", \"w\", newline=\"\") as f:\n",
    "\n",
    "…then \"w\" in quotation marks…\n",
    "\n",
    "    with open(\"whatever.csv\", \"w\", newline=\"\") as f:\n",
    "\n",
    "And you specify a file handle at the end. Again, I've chosen to call it f…\n",
    "\n",
    "    with open(\"whatever.csv\", \"w\", newline=\"\") as f:\n",
    "\n",
    "Here's something new: newline=\"\".\n",
    "\n",
    "    with open(\"whatever.csv\", \"w\", newline=\"\") as f:\n",
    "\n",
    "newline=\"\" is a technical requirement. At this point, there's no need to\n",
    "understand it. Just remember to include it.\n",
    "\n",
    "Also important to remember:\n",
    "If there's no such file as the file you specify…\n",
    "\n",
    "    with open(\"whatever.csv\", \"w\", newline=\"\") as f:\n",
    "\n",
    "…Python will create the file.\n",
    "\n",
    "If the file already exists, any information already in it will be overwritten by\n",
    "the new information that you're loading into it. Later I'll show you how to\n",
    "append information to an existing file, preserving any information that's already\n",
    "in it."
   ]
  },
  {
   "cell_type": "markdown",
   "metadata": {},
   "source": [
    "# CSV files: Loading information into them. Part 2"
   ]
  },
  {
   "cell_type": "markdown",
   "metadata": {},
   "source": [
    "At some point in your code you've imported the csv module. And you've opened\n",
    "a CVS file (or created it if it doesn't already exist):\n",
    "\n",
    "    with open(\"whatever.csv\", \"w\", newline=\"\") as f:\n",
    "\n",
    "Now you call the writer function in the csv module:\n",
    "\n",
    "    with open(\"whatever.csv\", \"w\", newline=\"\") as f:\n",
    "    data_handler = csv.writer(…\n",
    "\n",
    "For technical reasons, you can't write data directly to the CSV file. You have\n",
    "to create a special object that handles the data. You begin line 2 by creating this\n",
    "object. Use any legal variable name:\n",
    "\n",
    "    with open(\"whatever.csv\", \"w\", newline=\"\") as f:\n",
    "    data_handler = csv.writer(…\n",
    "\n",
    "Next, an equal sign…\n",
    "\n",
    "    with open(\"whatever.csv\", \"w\", newline=\"\") as f:\n",
    "    data_handler = csv.writer(…\n",
    "\n",
    "Then the file handle from line 1…\n",
    "\n",
    "    with open(\"whatever.csv\", \"w\", newline=\"\") as f:\n",
    "    data_handler = csv.writer(f…\n",
    "\n",
    "Finally, you tell Python what you're using as a delimiter"
   ]
  },
  {
   "cell_type": "code",
   "execution_count": 3,
   "metadata": {},
   "outputs": [],
   "source": [
    "import csv\n",
    "\n",
    "with open(\"whatever.csv\", \"w\", newline=\"\") as f:\n",
    "    data_handler = csv.writer(f, delimiter=\",\")\n",
    "    \n"
   ]
  },
  {
   "cell_type": "markdown",
   "metadata": {},
   "source": [
    "The reason you have to specify a delimiter is that, although CSV files are\n",
    "named for comma-separated values, the separators, or delimiters, can be tabs,\n",
    "semicolons, pipes (|), or carets (^). So you need to tell Python which one to use."
   ]
  },
  {
   "cell_type": "markdown",
   "metadata": {},
   "source": [
    "# CSV files: Loading information into them. Part 3"
   ]
  },
  {
   "cell_type": "markdown",
   "metadata": {},
   "source": [
    "We've opened the file competitions.csv (or created it if it doesn't already exist).\n",
    "We've told Python we're opening the file to write to it. And we've called the\n",
    "function:"
   ]
  },
  {
   "cell_type": "code",
   "execution_count": 4,
   "metadata": {},
   "outputs": [],
   "source": [
    "with open(\"whatever.csv\", \"w\", newline=\"\") as f:\n",
    "    data_handler = csv.writer(f, delimiter=\",\")"
   ]
  },
  {
   "cell_type": "markdown",
   "metadata": {},
   "source": [
    "Now we write some rows of data to the file, one row at a time:"
   ]
  },
  {
   "cell_type": "code",
   "execution_count": 5,
   "metadata": {},
   "outputs": [],
   "source": [
    "with open(\"whatever.csv\", \"w\", newline=\"\") as f:\n",
    "    data_handler = csv.writer(f, delimiter=\",\")\n",
    "    data_handler.writerow([\"Year\", \"Event\", \"Winner\"])\n",
    "    data_handler.writerow([\"1995\", \"Best-Kept Lawn\",\"None\"])\n",
    "    data_handler.writerow([\"1999\", \"Gobstones\", \"Welch National\"])"
   ]
  },
  {
   "cell_type": "markdown",
   "metadata": {},
   "source": [
    "Things to remember:\n",
    "It's the variable data_handler connected by a dot to the keyword\n",
    "writerow…"
   ]
  },
  {
   "cell_type": "markdown",
   "metadata": {},
   "source": [
    "Each row is loaded into the handler as a list:"
   ]
  },
  {
   "cell_type": "markdown",
   "metadata": {},
   "source": [
    "# CSV files: Appending rows to them."
   ]
  },
  {
   "cell_type": "markdown",
   "metadata": {},
   "source": [
    "In previous chapters you learned that the cvs.writer function wipes out\n",
    "any existing data in a CSV file and replaces it with the rows that you write to it.\n",
    "But this happens only if you specify \"w\" in the line that opens the file…"
   ]
  },
  {
   "cell_type": "code",
   "execution_count": 6,
   "metadata": {},
   "outputs": [],
   "source": [
    "# with open(\"whatever.csv\", \"w\", newline=\"\") as f:\n",
    "\n",
    "# If you specify \"a\" instead…\n",
    "\n",
    "# with open(\"whatever.csv\", \"a\", newline=\"\") as f:\n",
    "\n",
    "# …you can append new data, preserving the data that's already in the file…"
   ]
  },
  {
   "cell_type": "code",
   "execution_count": 7,
   "metadata": {},
   "outputs": [],
   "source": [
    "with open(\"whatever.csv\", \"a\", newline=\"\") as f:\n",
    "    data_handler = csv.writer(f, delimiter=\",\")\n",
    "    data_handler.writerow([\"2006\", \"World Cup\", \"Burkina Faso\"])\n",
    "    data_handler.writerow([\"2011\", \"Butter Cup\",\"France\"])\n",
    "    data_handler.writerow([\"2012\", \"Coffee Cup\", \"Brazil\"])"
   ]
  },
  {
   "cell_type": "markdown",
   "metadata": {},
   "source": [
    "Now the CSV file, which originally had three rows, looks like this when you\n",
    "open it in Excel:"
   ]
  },
  {
   "cell_type": "code",
   "execution_count": 18,
   "metadata": {},
   "outputs": [
    {
     "data": {
      "image/png": "[encoded data removed]",
      "text/plain": [
       "<IPython.core.display.Image object>"
      ]
     },
     "execution_count": 18,
     "metadata": {
      "image/png": {
       "height": 500,
       "width": 300
      }
     },
     "output_type": "execute_result"
    }
   ],
   "source": [
    "from IPython.display import Image\n",
    "Image(filename = \"F:\\ZEESHAN\\Python For All\\Repository Code\\Capture.png\", width = 300 , height = 500)"
   ]
  }
 ],
 "metadata": {
  "kernelspec": {
   "display_name": "Python 3",
   "language": "python",
   "name": "python3"
  },
  "language_info": {
   "codemirror_mode": {
    "name": "ipython",
    "version": 3
   },
   "file_extension": ".py",
   "mimetype": "text/x-python",
   "name": "python",
   "nbconvert_exporter": "python",
   "pygments_lexer": "ipython3",
   "version": "3.7.1"
  }
 },
 "nbformat": 4,
 "nbformat_minor": 2
}
