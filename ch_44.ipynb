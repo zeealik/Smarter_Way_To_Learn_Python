{
 "cells": [
  {
   "cell_type": "markdown",
   "metadata": {},
   "source": [
    "# Functions: Assigning a default value to a parameter"
   ]
  },
  {
   "cell_type": "code",
   "execution_count": 1,
   "metadata": {},
   "outputs": [],
   "source": [
    "def calc_tax(sales_total, tax_rate):\n",
    "    print(sales_total * tax_rate)"
   ]
  },
  {
   "cell_type": "code",
   "execution_count": 2,
   "metadata": {},
   "outputs": [
    {
     "name": "stdout",
     "output_type": "stream",
     "text": [
      "5.0685\n"
     ]
    }
   ],
   "source": [
    "calc_tax(sales_total=101.37, tax_rate=.05)"
   ]
  },
  {
   "cell_type": "markdown",
   "metadata": {},
   "source": [
    "But suppose 98 percent of your sales take place in your state. Your state has\n",
    "a tax rate of 4%. Python allows you to make that rate the default value for the\n",
    "key tax_rate. Here's how:"
   ]
  },
  {
   "cell_type": "code",
   "execution_count": 3,
   "metadata": {},
   "outputs": [],
   "source": [
    "def calc_tax(sales_total, tax_rate=.04):\n",
    "    print(sales_total * tax_rate)"
   ]
  },
  {
   "cell_type": "markdown",
   "metadata": {},
   "source": [
    "Now you can skip the second argument in the function call…\n",
    "and just write.."
   ]
  },
  {
   "cell_type": "code",
   "execution_count": 4,
   "metadata": {},
   "outputs": [
    {
     "name": "stdout",
     "output_type": "stream",
     "text": [
      "4.0548\n"
     ]
    }
   ],
   "source": [
    "calc_tax(sales_total=101.37)"
   ]
  },
  {
   "cell_type": "markdown",
   "metadata": {},
   "source": [
    "Note: Only keyword parameters can have a default value. Positional\n",
    "parameters can't."
   ]
  },
  {
   "cell_type": "markdown",
   "metadata": {},
   "source": [
    "In the rare case when you make a sale in another state with a different tax\n",
    "rate, you just put the second argument back into the function call…\n"
   ]
  },
  {
   "cell_type": "code",
   "execution_count": 8,
   "metadata": {},
   "outputs": [
    {
     "name": "stdout",
     "output_type": "stream",
     "text": [
      "7.60275\n"
     ]
    }
   ],
   "source": [
    "calc_tax(sales_total=101.37, tax_rate=.075) # will not replace the default tax_rate "
   ]
  },
  {
   "cell_type": "markdown",
   "metadata": {},
   "source": [
    "and the function replaces the default parameter, .04, with the value passed\n",
    "to the function by the calling code, .075.\n",
    "\n",
    "\n",
    "tax_rate=.04 must come\n",
    "after sales_total."
   ]
  },
  {
   "cell_type": "code",
   "execution_count": 7,
   "metadata": {},
   "outputs": [
    {
     "name": "stdout",
     "output_type": "stream",
     "text": [
      "4.0548\n"
     ]
    }
   ],
   "source": [
    "calc_tax(sales_total=101.37) # follows the same we defined above in the beginning."
   ]
  },
  {
   "cell_type": "markdown",
   "metadata": {},
   "source": [
    "Note: Keyword parameters without defaults must come before keyword\n",
    "parameters with defaults. In the following code, "
   ]
  },
  {
   "cell_type": "code",
   "execution_count": 16,
   "metadata": {},
   "outputs": [],
   "source": [
    "def calc_tax(sales_total, tax_rate=.04):\n",
    "    print(sales_total * tax_rate)"
   ]
  },
  {
   "cell_type": "markdown",
   "metadata": {},
   "source": [
    "You can use an empty default parameter value for an optional argument.\n",
    "Let's say you have a function that prints out an order for a single product. The\n",
    "information includes product name, color, size, and optional engraving.\n",
    "Sometimes the calling code passes a string for the engraved text, and sometimes\n",
    "it passes nothing, when engraving hasn't been ordered. So you code the final\n",
    "parameter, engraving_text, with the default value of an empty string:"
   ]
  },
  {
   "cell_type": "code",
   "execution_count": 27,
   "metadata": {},
   "outputs": [],
   "source": [
    "def print_order(product_name, color, size, engraving_text=\"default\"):\n",
    "    print(product_name)\n",
    "    print(color)\n",
    "    print(size)\n",
    "    print(engraving_text)"
   ]
  },
  {
   "cell_type": "markdown",
   "metadata": {},
   "source": [
    "If the calling code includes engraving text as an argument, the string passed\n",
    "by the argument replaces the empty string. If the calling code doesn't include\n",
    "engraving text as an argument, the function uses the empty string—no\n",
    "engraving."
   ]
  },
  {
   "cell_type": "code",
   "execution_count": 28,
   "metadata": {},
   "outputs": [
    {
     "name": "stdout",
     "output_type": "stream",
     "text": [
      "chair\n",
      "blue\n",
      "5.3\n",
      "khan\n"
     ]
    }
   ],
   "source": [
    "print_order(\"chair\", \"blue\", 5.3, \"khan\")"
   ]
  },
  {
   "cell_type": "code",
   "execution_count": 29,
   "metadata": {},
   "outputs": [
    {
     "name": "stdout",
     "output_type": "stream",
     "text": [
      "chair\n",
      "blue\n",
      "5.3\n",
      "default\n"
     ]
    }
   ],
   "source": [
    "print_order(\"chair\", \"blue\", 5.3)"
   ]
  }
 ],
 "metadata": {
  "kernelspec": {
   "display_name": "Python 3",
   "language": "python",
   "name": "python3"
  },
  "language_info": {
   "codemirror_mode": {
    "name": "ipython",
    "version": 3
   },
   "file_extension": ".py",
   "mimetype": "text/x-python",
   "name": "python",
   "nbconvert_exporter": "python",
   "pygments_lexer": "ipython3",
   "version": "3.7.1"
  }
 },
 "nbformat": 4,
 "nbformat_minor": 2
}
