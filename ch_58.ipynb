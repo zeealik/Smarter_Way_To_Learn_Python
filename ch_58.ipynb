{
 "cells": [
  {
   "cell_type": "markdown",
   "metadata": {},
   "source": [
    "# Classes: Getting info out of instances"
   ]
  },
  {
   "cell_type": "code",
   "execution_count": 14,
   "metadata": {},
   "outputs": [],
   "source": [
    "class Patient():\n",
    "    def __init__(self, last_name, first_name, age):\n",
    "        self.last_name = last_name\n",
    "        self.first_name = first_name\n",
    "        self.age = age\n",
    "\n",
    "pid4343 = Patient(\"Ahsan\", \"Khan\", 61)\n",
    "pid4344 = Patient(\"Waleed\", \"Khan\", 29)\n",
    "pid4345 = Patient(\"Oppenheimer\", \"Douglas\", 15)\n",
    "pid4346 = Patient(\"Lin\", \"Lilly\", 48)\n",
    "pid12902 = Patient(\"Nilsson\", \"Rhonda\", 33)"
   ]
  },
  {
   "cell_type": "markdown",
   "metadata": {},
   "source": [
    "We created an instance of the class Patient for pid4343 that had three\n",
    "attributes: last_name, first_name, and age. The values matching these\n",
    "\n",
    "attribute names were \"Taleb\", \"Sue\", and 61.\n",
    "\n",
    "Here's how we get Sue Taleb's age out of her patient record:\n",
    "\n"
   ]
  },
  {
   "cell_type": "code",
   "execution_count": 15,
   "metadata": {},
   "outputs": [],
   "source": [
    "age_of_patient = pid4343.age"
   ]
  },
  {
   "cell_type": "markdown",
   "metadata": {},
   "source": [
    "The line above assigns Sue Taleb's age, 61, to a variable I've named\n",
    "age_of_patient.\n",
    "\n",
    "Note the syntax. It starts with the unique identifier of the instance…\n",
    "\n",
    "    age_of_patient = pid4343.age\n",
    "        \n",
    "Then there's a dot…\n",
    "\n",
    "    age_of_patient = pid4343.age\n",
    "\n",
    "And the name of the attribute…\n",
    "\n",
    "    age_of_patient = pid4343.age\n",
    "\n",
    "If I just wanted to display Sue Taleb's age, I could write…\n"
   ]
  },
  {
   "cell_type": "code",
   "execution_count": 16,
   "metadata": {},
   "outputs": [
    {
     "name": "stdout",
     "output_type": "stream",
     "text": [
      "61\n"
     ]
    }
   ],
   "source": [
    "print(pid4343.age)\n",
    "\n",
    "# Python displays… 61"
   ]
  },
  {
   "cell_type": "code",
   "execution_count": 17,
   "metadata": {},
   "outputs": [
    {
     "data": {
      "text/plain": [
       "61"
      ]
     },
     "execution_count": 17,
     "metadata": {},
     "output_type": "execute_result"
    }
   ],
   "source": [
    "# or that way too\n",
    "\n",
    "pid4343.age"
   ]
  }
 ],
 "metadata": {
  "kernelspec": {
   "display_name": "Python 3",
   "language": "python",
   "name": "python3"
  },
  "language_info": {
   "codemirror_mode": {
    "name": "ipython",
    "version": 3
   },
   "file_extension": ".py",
   "mimetype": "text/x-python",
   "name": "python",
   "nbconvert_exporter": "python",
   "pygments_lexer": "ipython3",
   "version": "3.7.1"
  }
 },
 "nbformat": 4,
 "nbformat_minor": 2
}
