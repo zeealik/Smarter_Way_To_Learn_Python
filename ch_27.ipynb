{
 "cells": [
  {
   "cell_type": "markdown",
   "metadata": {},
   "source": [
    "# Dictionaries: How to pick information out of them"
   ]
  },
  {
   "cell_type": "code",
   "execution_count": 2,
   "metadata": {},
   "outputs": [],
   "source": [
    "# dictionary\n",
    "customer_29876 = {\"first name\": \"David\", \"last name\": \"Elliott\", \"address\": \"4803 Wellesley St.\"}"
   ]
  },
  {
   "cell_type": "markdown",
   "metadata": {},
   "source": [
    "The dictionary comprises three pairs:\n",
    "\n",
    "key is \"first name\", value is \"David\"\n",
    "\n",
    "key is \"last name\", value is \"Elliott\"\n",
    "\n",
    "key is \"address\", value is \"4803 Wellesley St.\""
   ]
  },
  {
   "cell_type": "code",
   "execution_count": 5,
   "metadata": {},
   "outputs": [],
   "source": [
    "# same like list we can assign the value of a key to a variable.. but here we give the key value in dictionary..\n",
    "# in this example customer_29876[\"address\"] value is assigned to address_of_customer \n",
    " \n",
    "address_of_customer = customer_29876[\"address\"]    "
   ]
  },
  {
   "cell_type": "code",
   "execution_count": 6,
   "metadata": {},
   "outputs": [
    {
     "data": {
      "text/plain": [
       "'4803 Wellesley St.'"
      ]
     },
     "execution_count": 6,
     "metadata": {},
     "output_type": "execute_result"
    }
   ],
   "source": [
    "address_of_customer "
   ]
  },
  {
   "cell_type": "markdown",
   "metadata": {},
   "source": [
    "The key in this case is a string, \"address.\" A key doesn't have to be a string. Nor does a value.\n",
    "Its upto you, what you decide"
   ]
  }
 ],
 "metadata": {
  "kernelspec": {
   "display_name": "Python 3",
   "language": "python",
   "name": "python3"
  },
  "language_info": {
   "codemirror_mode": {
    "name": "ipython",
    "version": 3
   },
   "file_extension": ".py",
   "mimetype": "text/x-python",
   "name": "python",
   "nbconvert_exporter": "python",
   "pygments_lexer": "ipython3",
   "version": "3.7.1"
  }
 },
 "nbformat": 4,
 "nbformat_minor": 2
}
