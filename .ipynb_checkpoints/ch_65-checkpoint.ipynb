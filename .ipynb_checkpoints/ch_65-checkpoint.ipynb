{
 "cells": [
  {
   "cell_type": "markdown",
   "metadata": {},
   "source": [
    "# Data files: Appending data"
   ]
  },
  {
   "cell_type": "markdown",
   "metadata": {},
   "source": [
    "When you specify \"w\"…\n",
    "\n",
    "    with open(\"greet.txt\", \"w\") as f:\n",
    "\n",
    "…the data that you write to the file overwrites any data that the file already\n",
    "contains.\n",
    "To append data to a file while preserving existing data in the file, you\n",
    "write…\n",
    "\n",
    "    with open(\"greet.txt\", \"a\") as f:\n",
    "\n",
    "So let's say the data in the greet.txt file is, in its entirety, \"Hello, World!\"\n",
    "If you write…"
   ]
  },
  {
   "cell_type": "code",
   "execution_count": 1,
   "metadata": {},
   "outputs": [],
   "source": [
    "with open(\"greet.txt\", \"a\") as f:\n",
    "    f.write(\"\\nHave a nice day!\")"
   ]
  },
  {
   "cell_type": "markdown",
   "metadata": {},
   "source": [
    "…the contents of the file are now \"Hello, World!\\nHave a nice day!\"\n",
    "\\n is the new-line character. The text that follows \\n is placed on a new\n",
    "line. \n",
    "\n",
    "So if you write.."
   ]
  },
  {
   "cell_type": "code",
   "execution_count": 2,
   "metadata": {},
   "outputs": [
    {
     "name": "stdout",
     "output_type": "stream",
     "text": [
      "Hello, world!\n",
      "Have a nice day!\n"
     ]
    }
   ],
   "source": [
    "with open(\"greet.txt\") as f:\n",
    "    message = f.read()\n",
    "    print(message)"
   ]
  }
 ],
 "metadata": {
  "kernelspec": {
   "display_name": "Python 3",
   "language": "python",
   "name": "python3"
  },
  "language_info": {
   "codemirror_mode": {
    "name": "ipython",
    "version": 3
   },
   "file_extension": ".py",
   "mimetype": "text/x-python",
   "name": "python",
   "nbconvert_exporter": "python",
   "pygments_lexer": "ipython3",
   "version": "3.7.1"
  }
 },
 "nbformat": 4,
 "nbformat_minor": 2
}
