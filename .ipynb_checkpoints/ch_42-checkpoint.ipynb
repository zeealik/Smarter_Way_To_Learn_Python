{
 "cells": [
  {
   "cell_type": "markdown",
   "metadata": {},
   "source": [
    "# Functions: Passing them information"
   ]
  },
  {
   "cell_type": "markdown",
   "metadata": {},
   "source": [
    "This is the code I wrote to define the add_numbers function:"
   ]
  },
  {
   "cell_type": "code",
   "execution_count": 1,
   "metadata": {},
   "outputs": [],
   "source": [
    "def add_numbers():\n",
    "    first_number = 2\n",
    "    second_number = 3\n",
    "    total = first_number + second_number\n",
    "    print(total)"
   ]
  },
  {
   "cell_type": "markdown",
   "metadata": {},
   "source": [
    "Now, instead of just calling the function, you're calling it and passing data to\n",
    "it. Each of the numbers inside the parentheses is known as an argument. In this\n",
    "example, you're passing two arguments to the function. Note that the two\n",
    "arguments are separated by a comma.\n",
    "The function is now more versatile, because now it can add any two\n",
    "numbers you give it, not just two numbers that are hard-wired into it.\n",
    "In order for a function to become a versatile robot rather than a one-job\n",
    "robot, you have to set it up to receive the data you're passing. Here's how you\n",
    "do it:"
   ]
  },
  {
   "cell_type": "code",
   "execution_count": 3,
   "metadata": {},
   "outputs": [],
   "source": [
    "def add_numbers(first_number, second_number):\n",
    "    total = first_number + second_number\n",
    "    print(total)"
   ]
  },
  {
   "cell_type": "code",
   "execution_count": 4,
   "metadata": {},
   "outputs": [
    {
     "name": "stdout",
     "output_type": "stream",
     "text": [
      "88\n"
     ]
    }
   ],
   "source": [
    "add_numbers(33,55)"
   ]
  },
  {
   "cell_type": "code",
   "execution_count": 6,
   "metadata": {},
   "outputs": [
    {
     "name": "stdout",
     "output_type": "stream",
     "text": [
      "47.44\n"
     ]
    }
   ],
   "source": [
    "add_numbers(45.22, 2.22)  # number or float .. it accepts it"
   ]
  },
  {
   "cell_type": "code",
   "execution_count": 7,
   "metadata": {},
   "outputs": [],
   "source": [
    "def greet_user(greeting):\n",
    "    print(greeting)"
   ]
  },
  {
   "cell_type": "code",
   "execution_count": 8,
   "metadata": {},
   "outputs": [
    {
     "name": "stdout",
     "output_type": "stream",
     "text": [
      "Hello, there.\n"
     ]
    }
   ],
   "source": [
    "greeting = \"Hello, there.\"\n",
    "greet_user(greeting)"
   ]
  },
  {
   "cell_type": "markdown",
   "metadata": {},
   "source": [
    "The argument name and the parameter name don't have to match.\n",
    "No matter what an argument's name is, it is accepted by the parameter, no\n",
    "matter what the parameter's name is. In the following code, the variable\n",
    "whatever is the argument."
   ]
  },
  {
   "cell_type": "code",
   "execution_count": 12,
   "metadata": {},
   "outputs": [],
   "source": [
    "whatever = \"Hello, there.\"\n",
    "def greetUser(whatever):\n",
    "    print(whatever)"
   ]
  },
  {
   "cell_type": "code",
   "execution_count": 13,
   "metadata": {},
   "outputs": [
    {
     "name": "stdout",
     "output_type": "stream",
     "text": [
      "Hello, there.\n"
     ]
    }
   ],
   "source": [
    "greetUser(whatever)"
   ]
  },
  {
   "cell_type": "markdown",
   "metadata": {},
   "source": [
    "It's okay that the name of the argument and the name of the parameter don't\n",
    "match. The parameter still catches the argument, the string \"Hello, there.\"\n",
    "Still, it often makes sense to give an argument and a parameter the same\n",
    "name, for clarity."
   ]
  }
 ],
 "metadata": {
  "kernelspec": {
   "display_name": "Python 3",
   "language": "python",
   "name": "python3"
  },
  "language_info": {
   "codemirror_mode": {
    "name": "ipython",
    "version": 3
   },
   "file_extension": ".py",
   "mimetype": "text/x-python",
   "name": "python",
   "nbconvert_exporter": "python",
   "pygments_lexer": "ipython3",
   "version": "3.7.1"
  }
 },
 "nbformat": 4,
 "nbformat_minor": 2
}
