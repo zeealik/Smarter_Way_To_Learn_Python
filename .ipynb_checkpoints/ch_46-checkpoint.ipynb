{
 "cells": [
  {
   "cell_type": "markdown",
   "metadata": {},
   "source": [
    "# Functions: Dealing with an unknown number of arguments"
   ]
  },
  {
   "cell_type": "markdown",
   "metadata": {},
   "source": [
    "You've learned to match arguments with parameters. For every argument in the\n",
    "function call, you code a parameter in the function definition to store its value.\n",
    "Here's a function that displays a soccer match result:"
   ]
  },
  {
   "cell_type": "code",
   "execution_count": 1,
   "metadata": {},
   "outputs": [],
   "source": [
    "def display_result(winner, score):\n",
    "    print(\"The winner was \" + winner)\n",
    "    print(\"The score was \" + score)"
   ]
  },
  {
   "cell_type": "markdown",
   "metadata": {},
   "source": [
    "If you call the function with these arguments…"
   ]
  },
  {
   "cell_type": "code",
   "execution_count": 2,
   "metadata": {},
   "outputs": [
    {
     "name": "stdout",
     "output_type": "stream",
     "text": [
      "The winner was Real Madrid\n",
      "The score was 1-0\n"
     ]
    }
   ],
   "source": [
    "display_result(winner=\"Real Madrid\", score=\"1-0\")"
   ]
  },
  {
   "cell_type": "markdown",
   "metadata": {},
   "source": [
    "But suppose there are times when you want to display other information\n",
    "about the match—but not always. \n",
    "\n",
    "For example, you call the same function and\n",
    "include these optional arguments:\n",
    "\n",
    "### display_result(winner=\"Real Madrid\", score=\"1-0\", overtime =\"yes\", injuries=\"none\")"
   ]
  },
  {
   "cell_type": "markdown",
   "metadata": {},
   "source": [
    "The function can handle optional arguments with this code:\n",
    "\n",
    "###  def display_result(winner, score, **other_info):"
   ]
  },
  {
   "cell_type": "markdown",
   "metadata": {},
   "source": [
    "The two asterisks followed by a parameter name mean that there may or\n",
    "may not be one or more extra arguments passed.\n",
    "\n",
    "The parameter name, like any other parameter name, can be any legal\n",
    "variable name. You could call it…\n",
    "\n",
    "### def display_result(winner, score, **whatever):"
   ]
  },
  {
   "cell_type": "markdown",
   "metadata": {},
   "source": [
    "How does the function handle the optional arguments? It puts them in a\n",
    "dictionary. \n",
    "\n",
    "The name of the dictionary is the parameter name—other_info,\n",
    "whatever, or whatever name follows those two asterisks.\n",
    "Here's the function with code that displays any additional information:"
   ]
  },
  {
   "cell_type": "code",
   "execution_count": 7,
   "metadata": {},
   "outputs": [],
   "source": [
    "def display_result(winner, score, **other_info):\n",
    "    print(\"The winner was \" + winner)\n",
    "    print(\"The score was \" + score)\n",
    "    for key, value in other_info.items():\n",
    "        print(key + \": \" + value)"
   ]
  },
  {
   "cell_type": "markdown",
   "metadata": {},
   "source": [
    "The code loops through the dictionary named info, displaying each item\n",
    "of optional information—if there is any optional information.\n",
    "\n",
    "When Python executes the call…"
   ]
  },
  {
   "cell_type": "code",
   "execution_count": 9,
   "metadata": {},
   "outputs": [
    {
     "name": "stdout",
     "output_type": "stream",
     "text": [
      "The winner was Real Madrid\n",
      "The score was 1-0\n",
      "overtime: yes\n",
      "injuries: none\n"
     ]
    }
   ],
   "source": [
    "display_result(winner=\"Real Madrid\", score=\"1-0\", overtime =\"yes\", injuries=\"none\")"
   ]
  },
  {
   "cell_type": "markdown",
   "metadata": {},
   "source": [
    "Note: Optional arguments must come after regular arguments. Optional\n",
    "parameters must come after regular parameters.\n",
    "\n",
    "Positional arguments can be optional as well. To handle optional positional\n",
    "arguments, you use a single asterisk:"
   ]
  },
  {
   "cell_type": "code",
   "execution_count": 11,
   "metadata": {},
   "outputs": [],
   "source": [
    "def display_nums(first_num, second_num, *opt_nums):\n",
    "    print(first_num)\n",
    "    print(second_num)\n",
    "    print(opt_nums)"
   ]
  },
  {
   "cell_type": "code",
   "execution_count": 13,
   "metadata": {},
   "outputs": [
    {
     "name": "stdout",
     "output_type": "stream",
     "text": [
      "100\n",
      "200\n",
      "(300, 400, 500)\n"
     ]
    }
   ],
   "source": [
    "# If this is the calling code…\n",
    "\n",
    "display_nums(100, 200, 300, 400, 500)"
   ]
  },
  {
   "cell_type": "markdown",
   "metadata": {},
   "source": [
    "…100 goes into the parameter first_num, \n",
    "\n",
    "200 goes into the parameter\n",
    "second_num, \n",
    "\n",
    "and the last three numbers, the optional arguments, go into the\n",
    "parameter *opt_nums. \n",
    "\n",
    "The function puts them into a tuple. I've named it\n",
    "opt_nums. Line 4 displays the tuple."
   ]
  }
 ],
 "metadata": {
  "kernelspec": {
   "display_name": "Python 3",
   "language": "python",
   "name": "python3"
  },
  "language_info": {
   "codemirror_mode": {
    "name": "ipython",
    "version": 3
   },
   "file_extension": ".py",
   "mimetype": "text/x-python",
   "name": "python",
   "nbconvert_exporter": "python",
   "pygments_lexer": "ipython3",
   "version": "3.7.1"
  }
 },
 "nbformat": 4,
 "nbformat_minor": 2
}
