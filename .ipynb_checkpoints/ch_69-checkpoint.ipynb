{
 "cells": [
  {
   "cell_type": "markdown",
   "metadata": {},
   "source": [
    "# CSV files: Picking information out of them"
   ]
  },
  {
   "cell_type": "markdown",
   "metadata": {},
   "source": [
    "We exported an Excel spreadsheet…\n",
    "\n",
    "…into a CSV file named competitions.csv…\n",
    "\n",
    "Year,Event,Winner\n",
    "\n",
    "1995,Best-Kept Lawn,None\n",
    "\n",
    "1999,Gobstones,Welch Nationional\n",
    "\n",
    "2006,World Cup,Burkina Faso"
   ]
  },
  {
   "cell_type": "markdown",
   "metadata": {},
   "source": [
    "Using a function of the Python cvs module called reader, we read the\n",
    "contents of the file. \n",
    "\n",
    "Looping through it line-by-line, we translated the contents\n",
    "into a Python list named potter_competitions:\n",
    "\n",
    "    ['Year', 'Event', 'Winner', '1995', 'Best-Kept Lawn', 'None', '1999', 'Gobstones','Welch National', '2006', 'World Cup', 'Burkina Faso']"
   ]
  },
  {
   "cell_type": "code",
   "execution_count": null,
   "metadata": {},
   "outputs": [],
   "source": []
  }
 ],
 "metadata": {
  "kernelspec": {
   "display_name": "Python 3",
   "language": "python",
   "name": "python3"
  },
  "language_info": {
   "codemirror_mode": {
    "name": "ipython",
    "version": 3
   },
   "file_extension": ".py",
   "mimetype": "text/x-python",
   "name": "python",
   "nbconvert_exporter": "python",
   "pygments_lexer": "ipython3",
   "version": "3.7.1"
  }
 },
 "nbformat": 4,
 "nbformat_minor": 2
}
