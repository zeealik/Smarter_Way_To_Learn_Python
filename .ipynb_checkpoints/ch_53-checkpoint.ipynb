{
 "cells": [
  {
   "cell_type": "markdown",
   "metadata": {},
   "source": [
    "# Classes"
   ]
  },
  {
   "cell_type": "markdown",
   "metadata": {},
   "source": [
    "On your first visit to a health clinic, the receptionist hands you a clipboard with\n",
    "a form clipped to it. You fill out the form to provide your personal information.\n",
    "Why a form? Why doesn't she just give you a blank sheet of paper with the\n",
    "instructions, \"Tell us about yourself\"?\n",
    "\n",
    "You know the answer. The clinic wants a standard set of information\n",
    "organized the same way for each patient. The form is a template that makes\n",
    "things easier for both you and the clinic. It standardizes and organizes\n",
    "information so the information is easier to access and easier to work with.\n",
    "\n",
    "In Python, classes are templates. They help you standardize and organize\n",
    "information.\n",
    "\n",
    "When you write the first line of code creating a class …"
   ]
  },
  {
   "cell_type": "code",
   "execution_count": 4,
   "metadata": {},
   "outputs": [],
   "source": [
    "# class Patient():   \n",
    "\n",
    "# commented because it'll throw error due to no body. it must be defined. we'll talk\n",
    "# about it in next chapters."
   ]
  },
  {
   "cell_type": "markdown",
   "metadata": {},
   "source": [
    "…you're saying to Python, \"I'm creating a class that I'm naming Patient.\n",
    "Use this class as the template for each virtual sheet of information about a\n",
    "bunch of different patients. Each patient will have her own instance of this form,\n",
    "but the information for all patients is to be structured the same way.\"\n",
    "\n",
    "A class is like the health clinic receptionist's tablet of forms. Before it's filled\n",
    "out, each sheet in the tablet is identical to all the others. When a patient fills out\n",
    "a copy, it still has the same structure as all the others but contains unique\n",
    "particulars.\n",
    "\n",
    "Coding the first line of a class definition is like creating a title at the top of a\n",
    "form:"
   ]
  },
  {
   "cell_type": "markdown",
   "metadata": {},
   "source": [
    "Things to notice about this first line of code that defines a class:\n",
    "It begins with the keyword class."
   ]
  },
  {
   "cell_type": "markdown",
   "metadata": {},
   "source": [
    "Then comes the name you're giving it. Naming rules here follow those for\n",
    "variables. The only difference is that by custom, a class name begins with a\n",
    "capital letter:"
   ]
  },
  {
   "cell_type": "markdown",
   "metadata": {},
   "source": [
    "The class name is followed by a pair of parentheses and a colon:"
   ]
  },
  {
   "cell_type": "code",
   "execution_count": 7,
   "metadata": {},
   "outputs": [
    {
     "ename": "SyntaxError",
     "evalue": "unexpected EOF while parsing (<ipython-input-7-857f36bd1853>, line 1)",
     "output_type": "error",
     "traceback": [
      "\u001b[1;36m  File \u001b[1;32m\"<ipython-input-7-857f36bd1853>\"\u001b[1;36m, line \u001b[1;32m1\u001b[0m\n\u001b[1;33m    class Patient():\u001b[0m\n\u001b[1;37m                    ^\u001b[0m\n\u001b[1;31mSyntaxError\u001b[0m\u001b[1;31m:\u001b[0m unexpected EOF while parsing\n"
     ]
    }
   ],
   "source": [
    "class Patient():"
   ]
  }
 ],
 "metadata": {
  "kernelspec": {
   "display_name": "Python 3",
   "language": "python",
   "name": "python3"
  },
  "language_info": {
   "codemirror_mode": {
    "name": "ipython",
    "version": 3
   },
   "file_extension": ".py",
   "mimetype": "text/x-python",
   "name": "python",
   "nbconvert_exporter": "python",
   "pygments_lexer": "ipython3",
   "version": "3.7.1"
  }
 },
 "nbformat": 4,
 "nbformat_minor": 2
}
