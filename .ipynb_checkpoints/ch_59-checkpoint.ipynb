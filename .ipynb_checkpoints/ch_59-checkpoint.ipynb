{
 "cells": [
  {
   "cell_type": "markdown",
   "metadata": {},
   "source": [
    "# Classes: Building functions into them"
   ]
  },
  {
   "cell_type": "code",
   "execution_count": 22,
   "metadata": {},
   "outputs": [],
   "source": [
    "class Patient():\n",
    "    def __init__(self, first_name, last_name, age):\n",
    "        self.first_name = first_name\n",
    "        self.last_name = last_name\n",
    "        self.age = age\n",
    "\n",
    "pid4343 = Patient(\"Ahsan\", \"Khan\", 61)\n",
    "pid4344 = Patient(\"Waleed\", \"Khan\", 29)\n",
    "pid4345 = Patient(\"Oppenheimer\", \"Douglas\", 15)\n",
    "pid4346 = Patient(\"Lin\", \"Lilly\", 48)\n",
    "pid12902 = Patient(\"Nilsson\", \"Rhonda\", 33)"
   ]
  },
  {
   "cell_type": "markdown",
   "metadata": {},
   "source": [
    "Our Patient class has three attributes: last_name, first_name, and\n",
    "age. Each instance of the class contains values that match these attributes…\n",
    "\n",
    "    pid4343 = Patient(\"Taleb\", \"Sue\", 61)\n",
    "\n",
    "Here's a function that checks the age of a patient and displays a message if\n",
    "the patient is under 21:"
   ]
  },
  {
   "cell_type": "code",
   "execution_count": 23,
   "metadata": {},
   "outputs": [],
   "source": [
    "def say_if_minor(patient_first_name, patient_last_name, patient_age):\n",
    "    if patient_age < 21:\n",
    "        print(patient_first_name + \" \" + patient_last_name + \" is a minor\")\n",
    "    else:\n",
    "        print(patient_first_name + \" \" + patient_last_name + \" is not a minor\")\n",
    "    "
   ]
  },
  {
   "cell_type": "markdown",
   "metadata": {},
   "source": [
    "This is the code that calls the function, passing the three attributes of patient\n",
    "pid4343 as arguments:\n"
   ]
  },
  {
   "cell_type": "code",
   "execution_count": 24,
   "metadata": {},
   "outputs": [
    {
     "name": "stdout",
     "output_type": "stream",
     "text": [
      "Ahsan Khan is not a minor\n"
     ]
    }
   ],
   "source": [
    "say_if_minor(pid4343.first_name, pid4343.last_name, pid4343.age)"
   ]
  },
  {
   "cell_type": "markdown",
   "metadata": {},
   "source": [
    "Rather than coding a freestanding function, we can build the function into\n",
    "the class itself. When we do that, the function is called a method. In the next\n",
    "chapter I'll show you how to code it. \n",
    "\n",
    "But look how simple it is to call the\n",
    "function when it's built-in:"
   ]
  },
  {
   "cell_type": "code",
   "execution_count": 31,
   "metadata": {},
   "outputs": [
    {
     "ename": "AttributeError",
     "evalue": "'Patient' object has no attribute 'say_if_minor'",
     "output_type": "error",
     "traceback": [
      "\u001b[1;31m---------------------------------------------------------------------------\u001b[0m",
      "\u001b[1;31mAttributeError\u001b[0m                            Traceback (most recent call last)",
      "\u001b[1;32m<ipython-input-31-8d3c77a9f174>\u001b[0m in \u001b[0;36m<module>\u001b[1;34m\u001b[0m\n\u001b[1;32m----> 1\u001b[1;33m \u001b[0mpid4343\u001b[0m\u001b[1;33m.\u001b[0m\u001b[0msay_if_minor\u001b[0m\u001b[1;33m(\u001b[0m\u001b[1;33m)\u001b[0m\u001b[1;33m\u001b[0m\u001b[1;33m\u001b[0m\u001b[0m\n\u001b[0m\u001b[0;32m      2\u001b[0m \u001b[1;33m\u001b[0m\u001b[0m\n\u001b[0;32m      3\u001b[0m \u001b[1;31m# throws error because it wasn't declare in class body.\u001b[0m\u001b[1;33m\u001b[0m\u001b[1;33m\u001b[0m\u001b[1;33m\u001b[0m\u001b[0m\n\u001b[0;32m      4\u001b[0m \u001b[1;31m# in the next chapter we'll learn about it how to declare method and recall it\u001b[0m\u001b[1;33m\u001b[0m\u001b[1;33m\u001b[0m\u001b[1;33m\u001b[0m\u001b[0m\n",
      "\u001b[1;31mAttributeError\u001b[0m: 'Patient' object has no attribute 'say_if_minor'"
     ]
    }
   ],
   "source": [
    "pid4343.say_if_minor()  \n",
    "\n",
    "# throws error because it wasn't declare in class body. \n",
    "# in the next chapter we'll learn about it how to declare method and recall it"
   ]
  },
  {
   "cell_type": "markdown",
   "metadata": {},
   "source": [
    "It starts with the name of the instance…\n",
    "\n",
    "    pid4343…\n",
    "\n",
    "…which is connected by a dot to the name of the method…\n",
    "\n",
    "    pid4343.say_if_minor()\n",
    "\n",
    "Without your specifying the attributes of pid4343, the method receives all\n",
    "of them.\n",
    "\n",
    "This code that calls a freestanding function…\n",
    "\n",
    "    say_if_minor(pid4343.first_name, pid4343.last_name, pid4343.age)\n",
    "\n",
    "…and this code that calls a method…\n",
    "\n",
    "    pid4343.say_if_minor()\n",
    "\n",
    "…produce exactly the same result."
   ]
  }
 ],
 "metadata": {
  "kernelspec": {
   "display_name": "Python 3",
   "language": "python",
   "name": "python3"
  },
  "language_info": {
   "codemirror_mode": {
    "name": "ipython",
    "version": 3
   },
   "file_extension": ".py",
   "mimetype": "text/x-python",
   "name": "python",
   "nbconvert_exporter": "python",
   "pygments_lexer": "ipython3",
   "version": "3.7.1"
  }
 },
 "nbformat": 4,
 "nbformat_minor": 2
}
