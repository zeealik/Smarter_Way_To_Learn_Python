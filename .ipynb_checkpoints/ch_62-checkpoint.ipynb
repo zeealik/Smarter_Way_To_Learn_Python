{
 "cells": [
  {
   "cell_type": "markdown",
   "metadata": {},
   "source": [
    "# Data files"
   ]
  },
  {
   "cell_type": "markdown",
   "metadata": {},
   "source": [
    "In all the coding so far in this book, none of the data has been preserved. We\n",
    "created variables, lists, dictionaries, and class instances that contained\n",
    "information, but as soon as the computer was turned off, all of it disappeared.\n",
    "You know how to save a word processing document or spreadsheet, but\n",
    "how do you save data processed by Python?\n",
    "\n",
    "It starts with a line of Python code:\n",
    "\n",
    "    with open(\"whatever.txt\", \"w\") as file_to_work_with:\n",
    "\n",
    "This line opens the text file whatever.txt if such a file exists. If it doesn't exist,\n",
    "Python creates it.\n",
    "Here's the breakdown.\n",
    "with is a puzzling (to me) way to tell Python to close the file after you\n",
    "write to it…\n",
    "\n",
    "    with open(\"whatever.txt\", \"w\") as file_to_work_with:\n",
    "\n",
    "open is easy to remember…\n",
    "\n",
    "    with open(\"whatever.txt\", \"w\") as file_to_work_with:\n",
    "\n",
    "The first item inside the parentheses is the name of the text file, in quotes…\n",
    "\n",
    "    with open(\"whatever.txt\", \"w\") as file_to_work_with:\n",
    "\n",
    "Then a comma, followed by \"w\". It tells Python that you're opening the file\n",
    "so you can write to it…\n",
    "\n",
    "    with open(\"whatever.txt\", \"w\") as file_to_work_with:\n",
    "\n",
    "as is a keyword meaning that you're assigning a file handle to the file. In\n",
    "addition to the file name, \"whatever.text,\" Python needs a handle in order to get\n",
    "into the file. In this case, I've given it a handle of file_to_work_with.\n",
    "\n",
    "    with open(\"whatever.txt\", \"w\") as file_to_work_with:\n",
    "\n",
    "The line ends with a colon, promising that there's more code to come…\n",
    "\n",
    "    with open(\"whatever.txt\", \"w\") as file_to_work_with:\n",
    "\n",
    "You could open the file without the initial with, opting to close the file\n",
    "yourself when you're ready…\n",
    "\n",
    "    file_to_work_with = open(\"whatever.txt\", \"w\"):\n",
    "\n",
    "…but I like the automatic-closing feature, because it's one less thing to\n",
    "remember, and removes the possibility that you'll fail to close the door behind\n",
    "you.\n",
    "\n",
    "Note that the designation \"whatever.txt\" assumes that the file is in\n",
    "the same folder as the Python program that's opening it. If it isn't in the same\n",
    "folder, you must include the path. For example, if whatever.txt is in the data\n",
    "subfolder of the Python folder and you're using Windows, you would write…\n",
    "\n",
    "    with open(\"data\\whatever.txt\", \"w\") as file_to_work_with:\n",
    "\n",
    "On OS X and Linux, you'd use a forward slash:\n",
    "\n",
    "    with open(\"data/whatever.txt\", \"w\") as file_to_work_with:\n",
    "\n",
    "Note that the handle file_to_work_with is a name that I made up.\n",
    "You can use any name you like, as long as it's a legal variable name…\n",
    "\n",
    "    with open(\"whatever.txt\", \"w\") as f:"
   ]
  },
  {
   "cell_type": "code",
   "execution_count": 2,
   "metadata": {},
   "outputs": [
    {
     "ename": "SyntaxError",
     "evalue": "unexpected EOF while parsing (<ipython-input-2-53170da59ebb>, line 4)",
     "output_type": "error",
     "traceback": [
      "\u001b[1;36m  File \u001b[1;32m\"<ipython-input-2-53170da59ebb>\"\u001b[1;36m, line \u001b[1;32m4\u001b[0m\n\u001b[1;33m    # it is missing. In the next chapter we'll learn about it\u001b[0m\n\u001b[1;37m                                                             ^\u001b[0m\n\u001b[1;31mSyntaxError\u001b[0m\u001b[1;31m:\u001b[0m unexpected EOF while parsing\n"
     ]
    }
   ],
   "source": [
    "with open(\"whatever.txt\", \"w\") as file_to_work_with:\n",
    "\n",
    "# throwing error because we have just written the first line, the body of \n",
    "# it is missing. In the next chapter we'll learn about it"
   ]
  }
 ],
 "metadata": {
  "kernelspec": {
   "display_name": "Python 3",
   "language": "python",
   "name": "python3"
  },
  "language_info": {
   "codemirror_mode": {
    "name": "ipython",
    "version": 3
   },
   "file_extension": ".py",
   "mimetype": "text/x-python",
   "name": "python",
   "nbconvert_exporter": "python",
   "pygments_lexer": "ipython3",
   "version": "3.7.1"
  }
 },
 "nbformat": 4,
 "nbformat_minor": 2
}
