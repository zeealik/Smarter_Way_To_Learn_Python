{
 "cells": [
  {
   "cell_type": "markdown",
   "metadata": {},
   "source": [
    "# Using functions as variables (which is what they really are)"
   ]
  },
  {
   "cell_type": "markdown",
   "metadata": {},
   "source": [
    "In the last chapter, I may have confused you when I said you could condense…\n",
    "\n",
    "#### sales_tax = calc_tax(sales_total=101.37, tax_rate=.05)\n",
    "#### print(sales_tax)\n",
    "\n",
    "..into\n",
    "\n",
    "#### print(calc_tax(sales_total=101.37, tax_rate=.05))"
   ]
  },
  {
   "cell_type": "markdown",
   "metadata": {},
   "source": [
    "In the longer, two-line code, the variable sales_tax receives the value\n",
    "returned by the function calc_tax. Then the variable is used in the print\n",
    "statement to tell Python the value to display.\n",
    "\n",
    "In the condensed statement, it appears that I'm telling Python to display the\n",
    "function! But really, I'm telling Python to display the value that's returned by the\n",
    "function. Instead of enclosing a variable in the parentheses, I'm enclosing the\n",
    "function. This is legal, because a function is a variable.\n",
    "\n",
    "Here's another example. Let's say I write a function that adds two\n",
    "numbers…"
   ]
  },
  {
   "cell_type": "code",
   "execution_count": 4,
   "metadata": {},
   "outputs": [],
   "source": [
    "def add_numbers(first_number, second_number):\n",
    "    return first_number + second_number\n",
    "\n",
    "# …and another function that subtracts two numbers…\n",
    "\n",
    "def subtract_numbers(first_number, second_number):\n",
    "    return first_number - second_number\n"
   ]
  },
  {
   "cell_type": "code",
   "execution_count": 7,
   "metadata": {},
   "outputs": [
    {
     "name": "stdout",
     "output_type": "stream",
     "text": [
      "4\n"
     ]
    }
   ],
   "source": [
    "# Suppose I write…\n",
    "\n",
    "result_of_adding = add_numbers(1, 2)\n",
    "result_of_subtracting = subtract_numbers(3, 2)\n",
    "sum_of_results = result_of_adding + result_of_subtracting\n",
    "print(sum_of_results)\n"
   ]
  },
  {
   "cell_type": "markdown",
   "metadata": {},
   "source": [
    "Line 1 calls the first function. The result, 3, is returned and placed in\n",
    "result_of_adding.\n",
    "\n",
    "Line 2 calls the second function. The result, 1, is returned and placed in\n",
    "result_of_subtracting.\n",
    "\n",
    "Line 3 totals the values stored in the two variables, 4, and assigns the sum to\n",
    "sum_of_results.\n",
    "\n",
    "This can all be condensed into one line by replacing the two variables with\n",
    "the functions themselves:"
   ]
  },
  {
   "cell_type": "code",
   "execution_count": 8,
   "metadata": {},
   "outputs": [
    {
     "name": "stdout",
     "output_type": "stream",
     "text": [
      "4\n"
     ]
    }
   ],
   "source": [
    "sum_of_results = add_numbers(1, 2) + subtract_numbers(3, 2)\n",
    "print(sum_of_results)"
   ]
  }
 ],
 "metadata": {
  "kernelspec": {
   "display_name": "Python 3",
   "language": "python",
   "name": "python3"
  },
  "language_info": {
   "codemirror_mode": {
    "name": "ipython",
    "version": 3
   },
   "file_extension": ".py",
   "mimetype": "text/x-python",
   "name": "python",
   "nbconvert_exporter": "python",
   "pygments_lexer": "ipython3",
   "version": "3.7.1"
  }
 },
 "nbformat": 4,
 "nbformat_minor": 2
}
