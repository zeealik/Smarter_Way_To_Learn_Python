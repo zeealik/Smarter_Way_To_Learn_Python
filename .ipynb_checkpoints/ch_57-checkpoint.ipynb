{
 "cells": [
  {
   "cell_type": "markdown",
   "metadata": {},
   "source": [
    "# Classes: A little more complexity"
   ]
  },
  {
   "cell_type": "markdown",
   "metadata": {},
   "source": [
    "We created a class named Patient, with just a single attribute, last_name:"
   ]
  },
  {
   "cell_type": "code",
   "execution_count": 1,
   "metadata": {},
   "outputs": [],
   "source": [
    "class Patient():\n",
    "    def __init__(self, last_name):\n",
    "        self.last_name = last_name"
   ]
  },
  {
   "cell_type": "markdown",
   "metadata": {},
   "source": [
    "Then we instantiated the class five times. These were the instances we\n",
    "created:\n"
   ]
  },
  {
   "cell_type": "code",
   "execution_count": 2,
   "metadata": {},
   "outputs": [],
   "source": [
    "pid4343 = Patient(\"Taleb\")\n",
    "pid4344 = Patient(\"Anand\")\n",
    "pid4345 = Patient(\"Oppenheimer\")\n",
    "pid4346 = Patient(\"Lin\")\n",
    "pid12902 = Patient(\"Nilsson\")"
   ]
  },
  {
   "cell_type": "markdown",
   "metadata": {},
   "source": [
    "Let's add two more attributes to the class to make it slightly more realistic:"
   ]
  },
  {
   "cell_type": "code",
   "execution_count": 3,
   "metadata": {},
   "outputs": [],
   "source": [
    "class Patient():\n",
    "    def __init__(self, last_name, first_name, age):\n",
    "        self.last_name = last_name\n",
    "        self.first_name = first_name\n",
    "        self.age = age"
   ]
  },
  {
   "cell_type": "markdown",
   "metadata": {},
   "source": [
    "Here are five instances of this more complicated class:"
   ]
  },
  {
   "cell_type": "code",
   "execution_count": 5,
   "metadata": {},
   "outputs": [],
   "source": [
    "pid4343 = Patient(\"Taleb\", \"Sue\", 61)\n",
    "pid4344 = Patient(\"Anand\", \"Punya\", 29)\n",
    "pid4345 = Patient(\"Oppenheimer\", \"Douglas\", 15)\n",
    "pid4346 = Patient(\"Lin\", \"Lilly\", 48)\n",
    "pid12902 = Patient(\"Nilsson\", \"Rhonda\", 33)"
   ]
  },
  {
   "cell_type": "markdown",
   "metadata": {},
   "source": [
    "Note that in each instance, there's a value that matches up with each\n",
    "attribute in the class definition on line 2. \"Taleb\" matches up with\n",
    "last_name, \"Sue\" matches up with first_name, 61 matches up with\n",
    "age. \n",
    "\n",
    "Python matches the values with the attributes according to their order. It\n",
    "works like positional arguments—the arguments in a function call that match up\n",
    "with the parameters in the function, according to their order.\n",
    "last_name is the first attribute…"
   ]
  },
  {
   "cell_type": "markdown",
   "metadata": {},
   "source": [
    "        class Patient():\n",
    "            def __init__(self, last_name, first_name, age):\n",
    "…and Python knows to match \"Taleb\" with it because \"Taleb\" is the first\n",
    "value…\n",
    "\n",
    "        pid4343 = Patient(\"Taleb\", \"Sue\", 61)\n",
    "\n",
    "first_name is the second attribute…\n",
    "\n",
    "        class Patient():\n",
    "            def __init__(self, last_name, first_name, age):\n",
    "    \n",
    "…and \"Sue\" is the second value…\n",
    "\n",
    "    pid4343 = Patient(\"Taleb\", \"Sue\", 61)\n",
    "    \n",
    "age is the third attribute…\n",
    "\n",
    "       class Patient():\n",
    "           def __init__(self, last_name, first_name, age):\n",
    "        \n",
    "…and 61 is the third value…\n",
    "\n",
    "    pid4343 = Patient(\"Taleb\", \"Sue\", 61)\n",
    "    \n",
    "It's that simple."
   ]
  }
 ],
 "metadata": {
  "kernelspec": {
   "display_name": "Python 3",
   "language": "python",
   "name": "python3"
  },
  "language_info": {
   "codemirror_mode": {
    "name": "ipython",
    "version": 3
   },
   "file_extension": ".py",
   "mimetype": "text/x-python",
   "name": "python",
   "nbconvert_exporter": "python",
   "pygments_lexer": "ipython3",
   "version": "3.7.1"
  }
 },
 "nbformat": 4,
 "nbformat_minor": 2
}
