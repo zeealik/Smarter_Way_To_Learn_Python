{
 "cells": [
  {
   "cell_type": "markdown",
   "metadata": {},
   "source": [
    "# Classes: A bit of housekeeping"
   ]
  },
  {
   "cell_type": "markdown",
   "metadata": {},
   "source": [
    "We've told Python we're defining a class named Patient…\n",
    "\n",
    "        class Patient():\n",
    "\n",
    "…and we've started to structure the class, specifying that it is to contain an\n",
    "attribute named last_name…\n",
    "\n",
    "        class Patient():\n",
    "            def __init__(self, last_name):\n",
    "\n",
    "Next, we have to write a line that Python needs in order to keep things\n",
    "straight. It's just housekeeping. We need to tell Python that in each instance that\n",
    "we create using the class as a template, there will be a variable that has the same\n",
    "value as the attribute we're talking about in line 2, last_name.\n",
    "\n",
    "You can give this attribute any name you like, as long as it's legal..."
   ]
  },
  {
   "cell_type": "code",
   "execution_count": 2,
   "metadata": {},
   "outputs": [],
   "source": [
    "class Patient():\n",
    "    def __init__(self, last_name):\n",
    "        self.whatever_dude = last_name"
   ]
  },
  {
   "cell_type": "markdown",
   "metadata": {},
   "source": [
    "But the easy thing to do is to duplicate the attribute name. That's what I'll\n",
    "ask you to do in the exercises."
   ]
  },
  {
   "cell_type": "markdown",
   "metadata": {},
   "source": [
    "You may wonder why it's necessary to tell Python that the last_name in\n",
    "line 3 has the same value as the last_name in line 2. That's another one you\n",
    "can explain to me when you're teaching at Stanford.\n",
    "\n",
    "Note that line 3 has to start with that mysterious self, followed by a dot…\n",
    "\n",
    "Note also that line 3 is indented one level deeper than line 2."
   ]
  }
 ],
 "metadata": {
  "kernelspec": {
   "display_name": "Python 3",
   "language": "python",
   "name": "python3"
  },
  "language_info": {
   "codemirror_mode": {
    "name": "ipython",
    "version": 3
   },
   "file_extension": ".py",
   "mimetype": "text/x-python",
   "name": "python",
   "nbconvert_exporter": "python",
   "pygments_lexer": "ipython3",
   "version": "3.7.1"
  }
 },
 "nbformat": 4,
 "nbformat_minor": 2
}
