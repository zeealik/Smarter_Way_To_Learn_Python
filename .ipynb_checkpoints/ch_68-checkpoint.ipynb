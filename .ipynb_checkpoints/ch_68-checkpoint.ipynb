{
 "cells": [
  {
   "cell_type": "markdown",
   "metadata": {},
   "source": [
    "# CSV files: Reading them"
   ]
  },
  {
   "cell_type": "markdown",
   "metadata": {},
   "source": [
    "You've opened the file competitions.csv and assigned it a file handle, f. Python will\n",
    "use this handle to access the contents of the file:"
   ]
  },
  {
   "cell_type": "code",
   "execution_count": 9,
   "metadata": {},
   "outputs": [],
   "source": [
    "import csv\n",
    "\n",
    "with open(\"competitions.csv\") as f:\n",
    "    \n",
    "#     You've called the function csv.reader, with the argument, (f), and\n",
    "#     assigned the file content that comes back from the function to a variable,\n",
    "#     contents_of_f.\n",
    "      contents_of_f = csv.reader(f)"
   ]
  },
  {
   "cell_type": "markdown",
   "metadata": {},
   "source": [
    "The contents of the CSV file returned by the csv.reader function aren't\n",
    "useable yet. You have to loop through the data stored in contents_of_f,\n",
    "line by line, adding each line to a list.\n",
    "\n",
    "Here's the code:"
   ]
  },
  {
   "cell_type": "code",
   "execution_count": 19,
   "metadata": {},
   "outputs": [],
   "source": [
    "# First, you define potter_competitions as an empty list:\n",
    "\n",
    "with open(\"competitions.csv\") as f:\n",
    "    contents_of_f = csv.reader(f)\n",
    "    potter_competitions = []\n",
    "    for each_line in contents_of_f:\n",
    "        potter_competitions += each_line\n",
    "\n",
    "\n",
    "# The loop appends each line of the CSV file to the\n",
    "# potter_competitions list. When the loop ends, the list is complete:\n"
   ]
  },
  {
   "cell_type": "code",
   "execution_count": 20,
   "metadata": {},
   "outputs": [
    {
     "name": "stdout",
     "output_type": "stream",
     "text": [
      "['Year', 'Event', 'Winner', '1995', 'Best-Kept Lawn', 'None', '1999', 'Gobstones', 'Welch National', '2006', 'World Cup', 'Burkina Faso']\n"
     ]
    }
   ],
   "source": [
    "# If you write…\n",
    "\n",
    "print(potter_competitions)\n",
    "\n",
    "# …Python displays the list…"
   ]
  }
 ],
 "metadata": {
  "kernelspec": {
   "display_name": "Python 3",
   "language": "python",
   "name": "python3"
  },
  "language_info": {
   "codemirror_mode": {
    "name": "ipython",
    "version": 3
   },
   "file_extension": ".py",
   "mimetype": "text/x-python",
   "name": "python",
   "nbconvert_exporter": "python",
   "pygments_lexer": "ipython3",
   "version": "3.7.1"
  }
 },
 "nbformat": 4,
 "nbformat_minor": 2
}
