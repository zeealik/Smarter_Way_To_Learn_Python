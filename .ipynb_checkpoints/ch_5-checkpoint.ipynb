{
 "cells": [
  {
   "cell_type": "markdown",
   "metadata": {},
   "source": [
    "# Variable Names Legal and Illegal"
   ]
  },
  {
   "cell_type": "code",
   "execution_count": 3,
   "metadata": {},
   "outputs": [
    {
     "data": {
      "text/plain": [
       "\"\\nThree rules about naming a variable:\\n1. You can't enclose it in quotation marks.\\n2. You can't have any spaces in it.\\n3. It can't be a number or begin with a number.\\n\\nAnd these python reserved also..the special words that act as programming instructions, like print.\\n\\n\\nand\\nas\\nassert\\nbreak\\nclass\\ncontinue\\ndef\\ndel\\nelif\\nelse\\nexcept\\nFalse\\nfinally\\nfor\\nfrom\\nglobal\\nif\\nimport\\nin\\nis\\nlambda\\nNone\\nnonlocal\\nnot\\nor\\npass\\nprint\\nraise\\nreturn\\nTrue\\ntry\\nwhile\\nwith\\nyield\\n\\n\""
      ]
     },
     "execution_count": 3,
     "metadata": {},
     "output_type": "execute_result"
    }
   ],
   "source": [
    " '''\n",
    "Three rules about naming a variable:\n",
    "1. You can't enclose it in quotation marks.\n",
    "2. You can't have any spaces in it.\n",
    "3. It can't be a number or begin with a number.\n",
    "\n",
    "And these python reserved also..the special words that act as programming instructions, like print.\n",
    "\n",
    "\n",
    "and\n",
    "as\n",
    "assert\n",
    "break\n",
    "class\n",
    "continue\n",
    "def\n",
    "del\n",
    "elif\n",
    "else\n",
    "except\n",
    "False\n",
    "finally\n",
    "for\n",
    "from\n",
    "global\n",
    "if\n",
    "import\n",
    "in\n",
    "is\n",
    "lambda\n",
    "None\n",
    "nonlocal\n",
    "not\n",
    "or\n",
    "pass\n",
    "print\n",
    "raise\n",
    "return\n",
    "True\n",
    "try\n",
    "while\n",
    "with\n",
    "yield\n",
    " \n",
    " '''\n",
    "    \n"
   ]
  },
  {
   "cell_type": "code",
   "execution_count": 5,
   "metadata": {},
   "outputs": [
    {
     "data": {
      "text/plain": [
       "'\\nA variable name can contain only lowercase letters, uppercase letters,\\nnumbers, and underscores.\\nThough a variable name can\\'t be any of Python\\'s keywords, it can\\ncontain any of those keywords.\\nCapital letters are fine, but be careful. Variable names are casesensitive.\\nA rose with a lowercase r is not a Rose with an uppercase\\nR. If you assign the string \"Floribundas\" to the variable rose, and\\nthen ask Python for the value assigned to Rose, you\\'ll come up empty.\\nPython\\'s governing body recommends breaking up multi-word\\nvariables with underscores. That\\'s what I\\'ll ask you to do with your\\nown variable names. It\\'ll make them more readable, and you\\'ll be less\\nlikely to get variables mixed up.\\n\\n\\n\\n\\nExamples:\\nuser_response\\nuser_response_time\\nuser_response_time_limit\\n\\n'"
      ]
     },
     "execution_count": 5,
     "metadata": {},
     "output_type": "execute_result"
    }
   ],
   "source": [
    "'''\n",
    "A variable name can contain only lowercase letters, uppercase letters,\n",
    "numbers, and underscores.\n",
    "Though a variable name can't be any of Python's keywords, it can\n",
    "contain any of those keywords.\n",
    "Capital letters are fine, but be careful. Variable names are casesensitive.\n",
    "A rose with a lowercase r is not a Rose with an uppercase\n",
    "R. If you assign the string \"Floribundas\" to the variable rose, and\n",
    "then ask Python for the value assigned to Rose, you'll come up empty.\n",
    "Python's governing body recommends breaking up multi-word\n",
    "variables with underscores. That's what I'll ask you to do with your\n",
    "own variable names. It'll make them more readable, and you'll be less\n",
    "likely to get variables mixed up.\n",
    "\n",
    "\n",
    "\n",
    "\n",
    "Examples:\n",
    "user_response\n",
    "user_response_time\n",
    "user_response_time_limit\n",
    "\n",
    "'''"
   ]
  },
  {
   "cell_type": "code",
   "execution_count": 9,
   "metadata": {},
   "outputs": [
    {
     "ename": "SyntaxError",
     "evalue": "invalid token (<ipython-input-9-a5cb4615d9de>, line 1)",
     "output_type": "error",
     "traceback": [
      "\u001b[1;36m  File \u001b[1;32m\"<ipython-input-9-a5cb4615d9de>\"\u001b[1;36m, line \u001b[1;32m1\u001b[0m\n\u001b[1;33m    1_num = 10      #illegal\u001b[0m\n\u001b[1;37m     ^\u001b[0m\n\u001b[1;31mSyntaxError\u001b[0m\u001b[1;31m:\u001b[0m invalid token\n"
     ]
    }
   ],
   "source": [
    "1_num = 10      #illegal"
   ]
  },
  {
   "cell_type": "code",
   "execution_count": 10,
   "metadata": {},
   "outputs": [
    {
     "ename": "SyntaxError",
     "evalue": "invalid syntax (<ipython-input-10-eef19607628f>, line 1)",
     "output_type": "error",
     "traceback": [
      "\u001b[1;36m  File \u001b[1;32m\"<ipython-input-10-eef19607628f>\"\u001b[1;36m, line \u001b[1;32m1\u001b[0m\n\u001b[1;33m    (khan = 33     #illegal\u001b[0m\n\u001b[1;37m          ^\u001b[0m\n\u001b[1;31mSyntaxError\u001b[0m\u001b[1;31m:\u001b[0m invalid syntax\n"
     ]
    }
   ],
   "source": [
    "(khan = 33     #illegal"
   ]
  },
  {
   "cell_type": "code",
   "execution_count": null,
   "metadata": {},
   "outputs": [],
   "source": []
  }
 ],
 "metadata": {
  "kernelspec": {
   "display_name": "Python 3",
   "language": "python",
   "name": "python3"
  },
  "language_info": {
   "codemirror_mode": {
    "name": "ipython",
    "version": 3
   },
   "file_extension": ".py",
   "mimetype": "text/x-python",
   "name": "python",
   "nbconvert_exporter": "python",
   "pygments_lexer": "ipython3",
   "version": "3.7.1"
  }
 },
 "nbformat": 4,
 "nbformat_minor": 2
}
