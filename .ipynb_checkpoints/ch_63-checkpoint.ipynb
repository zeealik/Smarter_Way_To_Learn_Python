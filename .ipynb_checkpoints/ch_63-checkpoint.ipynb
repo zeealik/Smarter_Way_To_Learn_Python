{
 "cells": [
  {
   "cell_type": "markdown",
   "metadata": {},
   "source": [
    "# Data files: Storing data"
   ]
  },
  {
   "cell_type": "code",
   "execution_count": 1,
   "metadata": {},
   "outputs": [],
   "source": [
    "# Let's store the string \"Hello world!\" in a file.\n",
    "# First we open a file:\n",
    "\n",
    "with open(\"greet.txt\", \"w\") as f:\n",
    "    f.write(\"Hello, world!\")"
   ]
  },
  {
   "cell_type": "markdown",
   "metadata": {},
   "source": [
    "\"greet.txt\" is the file name. f is the handle we're choosing to give it.\n",
    "\n",
    "If the file greet.txt exists, the code above opens it. If the file greet.text doesn't\n",
    "exist, the code above creates it."
   ]
  },
  {
   "cell_type": "markdown",
   "metadata": {},
   "source": [
    "In these two lines of code, we've opened (or created) a file named greet.txt,\n",
    "stored the string \"Hello, world!\" in it, and (automatically, thanks to with on\n",
    "line 1) closed it.\n",
    "\n",
    "Note that if the greet.txt is an existing file, any text in the file is overwritten\n",
    "with \"Hello world!\" Later, you'll learn how to append data to an existing file, but\n",
    "when you specify \"w\" in line 1…"
   ]
  },
  {
   "cell_type": "markdown",
   "metadata": {},
   "source": [
    "    with open(\"greet.txt\", \"w\") as f:\n",
    "        f.write(\"Hello, world!\")\n",
    "\n",
    "…you're telling Python to replace any data that's already in the file.\n",
    "Line 2 begins with the file handle you specified in line 1…\n",
    "    \n",
    "    with open(\"greet.txt\", \"w\") as f:\n",
    "        f.write(\"Hello, world!\")\n",
    "\n",
    "Then a dot followed by the keywork write…\n",
    "\n",
    "    with open(\"greet.txt\", \"w\") as f:\n",
    "        f.write(\"Hello, world!\")\n",
    "        \n",
    "The string that we're storing in the file is in parentheses…\n",
    "\n",
    "    with open(\"greet.txt\", \"w\") as f:\n",
    "        f.write(\"Hello, world!\")\n",
    "        \n",
    "It also works if the string is stored in a variable:\n",
    "    \n",
    "   "
   ]
  },
  {
   "cell_type": "code",
   "execution_count": 2,
   "metadata": {},
   "outputs": [],
   "source": [
    "greeting = \"Hello, world!\"\n",
    "with open(\"greet.txt\", \"w\") as f:\n",
    "    f.write(greeting)"
   ]
  }
 ],
 "metadata": {
  "kernelspec": {
   "display_name": "Python 3",
   "language": "python",
   "name": "python3"
  },
  "language_info": {
   "codemirror_mode": {
    "name": "ipython",
    "version": 3
   },
   "file_extension": ".py",
   "mimetype": "text/x-python",
   "name": "python",
   "nbconvert_exporter": "python",
   "pygments_lexer": "ipython3",
   "version": "3.7.1"
  }
 },
 "nbformat": 4,
 "nbformat_minor": 2
}
