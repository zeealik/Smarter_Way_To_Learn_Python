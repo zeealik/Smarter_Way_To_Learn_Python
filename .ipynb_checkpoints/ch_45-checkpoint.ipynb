{
 "cells": [
  {
   "cell_type": "markdown",
   "metadata": {},
   "source": [
    "# Functions: Mixing positional and keyword arguments"
   ]
  },
  {
   "cell_type": "markdown",
   "metadata": {},
   "source": [
    "You can mix positional arguments and keyword arguments. For example, you\n",
    "can code…"
   ]
  },
  {
   "cell_type": "code",
   "execution_count": 4,
   "metadata": {},
   "outputs": [
    {
     "name": "stdout",
     "output_type": "stream",
     "text": [
      "Hello there, Al\n"
     ]
    }
   ],
   "source": [
    "give_greeting(\"Hello there\", first_name=\"Al\")"
   ]
  },
  {
   "cell_type": "markdown",
   "metadata": {},
   "source": [
    "The first argument is positional, because there's no keyword. The second\n",
    "argument is a keyword argument, because it pairs the keyword first_name\n",
    "with the value \"Al.\"\n",
    "If you code this function…"
   ]
  },
  {
   "cell_type": "code",
   "execution_count": 5,
   "metadata": {},
   "outputs": [],
   "source": [
    "def give_greeting(greeting, first_name):\n",
    "    print(greeting + \", \" + first_name)"
   ]
  },
  {
   "cell_type": "markdown",
   "metadata": {},
   "source": [
    "Be careful mixing positional and keyword arguments.\n",
    "\n",
    "Positional arguments must come before keyword arguments.\n",
    "\n",
    "Keyword arguments don't have to line up with parameters, but positional\n",
    "arguments do. \n",
    "\n",
    "If \"Hello there\" is the first argument and greeting is the\n",
    "second parameter, it won't work. Since the positional argument \"Hello there\" is\n",
    "the first argument, it can pass information only to the first parameter in the\n",
    "function defintion. greeting has to come first in the parameter list.\n",
    "You can also throw default values into the mix. You can write…"
   ]
  },
  {
   "cell_type": "code",
   "execution_count": 6,
   "metadata": {},
   "outputs": [],
   "source": [
    "def give_greeting(greeting, first_name, flattering_nickname=\" the wonder boy\"):\n",
    "    print(greeting + \", \" + first_name + flattering_nickname)"
   ]
  },
  {
   "cell_type": "code",
   "execution_count": 8,
   "metadata": {},
   "outputs": [
    {
     "name": "stdout",
     "output_type": "stream",
     "text": [
      "Welcome, Ali the wonder boy\n"
     ]
    }
   ],
   "source": [
    "give_greeting(\"Welcome\", \"Ali\")"
   ]
  },
  {
   "cell_type": "markdown",
   "metadata": {},
   "source": [
    "When the calling code doesn't pass an argument for\n",
    "flattering_nickname, the function uses the default, \"the wonder boy\".\n",
    "\n",
    "Note: Positional arguments and parameters always come first, keyword\n",
    "parameters without defaults always come second, and keyword parameters with\n",
    "defaults always come last.\n",
    "\n",
    "Lists and dictionaries, as well as strings and numbers, can be arguments\n",
    "passed to a function. Here's our customers dictionary, a dictionary that\n",
    "contains a dictionary:"
   ]
  },
  {
   "cell_type": "code",
   "execution_count": 9,
   "metadata": {},
   "outputs": [],
   "source": [
    "customers = {\n",
    "    0:{\n",
    "        \"first name\":\"John\",\n",
    "        \"last name\": \"Ogden\",\n",
    "        \"address\": \"301 Arbor Rd.\",\n",
    "    },\n",
    "    1:{\n",
    "        \"first name\":\"Ann\",\n",
    "        \"last name\": \"Sattermyer\",\n",
    "        \"address\": \"PO Box 1145\",\n",
    "    },\n",
    "    2:{\n",
    "        \"first name\":\"Jill\",\n",
    "        \"last name\": \"Somers\",\n",
    "        \"address\": \"3 Main St.\",\n",
    "    },\n",
    "}"
   ]
  },
  {
   "cell_type": "markdown",
   "metadata": {},
   "source": [
    "Let's say we want to find the last name of customer 2.\n",
    "\n",
    "This is the function call:"
   ]
  },
  {
   "cell_type": "code",
   "execution_count": 13,
   "metadata": {},
   "outputs": [],
   "source": [
    "# This is the function definition:\n",
    "\n",
    "def find_something(dict, inner_dict, target):\n",
    "    print(dict[inner_dict][target])"
   ]
  },
  {
   "cell_type": "code",
   "execution_count": 14,
   "metadata": {},
   "outputs": [
    {
     "name": "stdout",
     "output_type": "stream",
     "text": [
      "Somers\n"
     ]
    }
   ],
   "source": [
    "find_something(customers, 2, \"last name\")"
   ]
  }
 ],
 "metadata": {
  "kernelspec": {
   "display_name": "Python 3",
   "language": "python",
   "name": "python3"
  },
  "language_info": {
   "codemirror_mode": {
    "name": "ipython",
    "version": 3
   },
   "file_extension": ".py",
   "mimetype": "text/x-python",
   "name": "python",
   "nbconvert_exporter": "python",
   "pygments_lexer": "ipython3",
   "version": "3.7.1"
  }
 },
 "nbformat": 4,
 "nbformat_minor": 2
}
