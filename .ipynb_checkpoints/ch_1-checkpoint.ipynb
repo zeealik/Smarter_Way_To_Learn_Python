{
 "cells": [
  {
   "cell_type": "markdown",
   "metadata": {},
   "source": [
    "# Print "
   ]
  },
  {
   "cell_type": "code",
   "execution_count": 2,
   "metadata": {},
   "outputs": [
    {
     "name": "stdout",
     "output_type": "stream",
     "text": [
      "Hi\n"
     ]
    }
   ],
   "source": [
    "print(\"Hi\") # will give output \"Hi\""
   ]
  },
  {
   "cell_type": "code",
   "execution_count": 5,
   "metadata": {},
   "outputs": [
    {
     "name": "stdout",
     "output_type": "stream",
     "text": [
      "Single quotation is allowed\n"
     ]
    }
   ],
   "source": [
    "print('Single quotation is allowed') # u can type in single quotation and get output on screen"
   ]
  },
  {
   "cell_type": "code",
   "execution_count": 6,
   "metadata": {},
   "outputs": [
    {
     "name": "stdout",
     "output_type": "stream",
     "text": [
      "Zeeshan\n"
     ]
    }
   ],
   "source": [
    "print('Zeeshan')  # Zeeshan will be printed"
   ]
  },
  {
   "cell_type": "code",
   "execution_count": 10,
   "metadata": {},
   "outputs": [
    {
     "name": "stdout",
     "output_type": "stream",
     "text": [
      "anything 34 34 29#%^#@@ %^$ \n"
     ]
    }
   ],
   "source": [
    "print('anything 34 34 29#%^#@@ %^$ ') # whatever u write in those quotations , python just print it \n",
    "                                        # no matter aap ne kya type keya ho"
   ]
  },
  {
   "cell_type": "code",
   "execution_count": 14,
   "metadata": {},
   "outputs": [
    {
     "name": "stdout",
     "output_type": "stream",
     "text": [
      "4\n",
      "27\n",
      "18\n",
      "3.0\n",
      "0\n"
     ]
    }
   ],
   "source": [
    "# ham print k andar mathematic operation use kr sakty hai..\n",
    "# like yahan ham ne addition, sub, mul, div, mod sab kiye hai\n",
    "\n",
    "print(2 + 2)\n",
    "print(33 - 6)\n",
    "print(3 * 6)\n",
    "print(9 / 3)\n",
    "print(6 % 2)"
   ]
  },
  {
   "cell_type": "code",
   "execution_count": null,
   "metadata": {},
   "outputs": [],
   "source": []
  }
 ],
 "metadata": {
  "kernelspec": {
   "display_name": "Python 3",
   "language": "python",
   "name": "python3"
  },
  "language_info": {
   "codemirror_mode": {
    "name": "ipython",
    "version": 3
   },
   "file_extension": ".py",
   "mimetype": "text/x-python",
   "name": "python",
   "nbconvert_exporter": "python",
   "pygments_lexer": "ipython3",
   "version": "3.7.1"
  }
 },
 "nbformat": 4,
 "nbformat_minor": 2
}
