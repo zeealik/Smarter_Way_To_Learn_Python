{
 "cells": [
  {
   "cell_type": "markdown",
   "metadata": {},
   "source": [
    "# CSV files"
   ]
  },
  {
   "cell_type": "markdown",
   "metadata": {},
   "source": [
    "CSV files are text-only files that are simplified versions of a spreadsheet or\n",
    "database. \"CSV\" stands for \"Comma-Separated Values.\"\n",
    "If you have an Excel file…\n",
    "…you can export it from Excel as a CSV file.\n",
    "The CSV file looks like this…\n",
    "\n",
    "    Year,Event,Winner\n",
    "    1995,Best-Kept Lawn,None\n",
    "    1999,Gobstones,Welch National\n",
    "    2006,World Cup,Burkina Faso\n",
    "\n",
    "Each row of the spreadsheet is a separte line in the CSV file.\n",
    "Within each row, each cell is separated by a comma.\n",
    "Notice that the formatting in the Excel file has disappeared in the CSV file.\n",
    "\n",
    "A CSV file is nothing but text.\n",
    "\n",
    "To work with a CSV file in a Python program, you begin by importing\n",
    "Python's built-in csv module:"
   ]
  },
  {
   "cell_type": "code",
   "execution_count": 1,
   "metadata": {},
   "outputs": [],
   "source": [
    "import csv"
   ]
  },
  {
   "cell_type": "markdown",
   "metadata": {},
   "source": [
    "This module is included in Python 3. If Python 3 is on your system, you've\n",
    "got the module, ready to go.\n",
    "\n",
    "So let's say you've exported the Excel spreadsheet above as competitions.csv.\n",
    "To read the file in Python, you begin with the usual line 1:"
   ]
  },
  {
   "cell_type": "code",
   "execution_count": 7,
   "metadata": {},
   "outputs": [],
   "source": [
    "with open(\"ch_67_part.csv\") as f:\n",
    "\n",
    "# This is the same syntax you learned for opening a text file.\n",
    "# Remember, f is a name I've chosen for the file handle. You could use any\n",
    "# legal variable name.\n",
    "# The following code…\n",
    "\n",
    "    contents_of_file = csv.reader(f)\n",
    "    \n",
    "# …this line calls a function, reader, in the csv module and passes the argument f to\n",
    "# the function. f is the file handle we've chosen for the file we've opened,\n",
    "# competitions.csv. That's the file we're asking the function to read.\n",
    "# The function returns the contents of the file. I've named the variable that\n",
    "# receives the contents contents_of_file."
   ]
  },
  {
   "cell_type": "code",
   "execution_count": 10,
   "metadata": {},
   "outputs": [],
   "source": [
    "# I created a CSV file in my that repository folder and then used it here"
   ]
  },
  {
   "cell_type": "code",
   "execution_count": 20,
   "metadata": {},
   "outputs": [],
   "source": [
    "# in the next chapter we'll read what we have in that file"
   ]
  }
 ],
 "metadata": {
  "kernelspec": {
   "display_name": "Python 3",
   "language": "python",
   "name": "python3"
  },
  "language_info": {
   "codemirror_mode": {
    "name": "ipython",
    "version": 3
   },
   "file_extension": ".py",
   "mimetype": "text/x-python",
   "name": "python",
   "nbconvert_exporter": "python",
   "pygments_lexer": "ipython3",
   "version": "3.7.1"
  }
 },
 "nbformat": 4,
 "nbformat_minor": 2
}
