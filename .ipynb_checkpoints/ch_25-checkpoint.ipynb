{
 "cells": [
  {
   "cell_type": "markdown",
   "metadata": {},
   "source": [
    "# Dictionaries: What they are"
   ]
  },
  {
   "cell_type": "markdown",
   "metadata": {},
   "source": [
    "Earlier in the book you learned to create a list:"
   ]
  },
  {
   "cell_type": "code",
   "execution_count": 1,
   "metadata": {},
   "outputs": [
    {
     "name": "stdout",
     "output_type": "stream",
     "text": [
      "Draco\n"
     ]
    }
   ],
   "source": [
    "my_cats = [\"Draco\", \"Bellatrix\", \"Voldemort\"]\n",
    "print(my_cats[0])\n"
   ]
  },
  {
   "cell_type": "markdown",
   "metadata": {},
   "source": [
    "\n",
    "\n",
    "\n",
    "\n",
    "To pick an element out of the list, you specify an index number:\n",
    "\n",
    "\n",
    "The code above displays Draco, the first element in the list, the one with an\n",
    "index of 0.\n",
    "\n",
    "Lists are good when you're putting together a simple series of things—tasks\n",
    "to do, cooking ingredients, the names of environmentally clean cities.\n",
    "But sometimes you want to put together something more complicated. For\n",
    "example:\n",
    "\n",
    "Customer 29876's first name: David\n",
    "\n",
    "Customer 29876's last name: Elliott\n",
    "\n",
    "Customer 29876's address: 4803 Wellesley St.\n",
    "\n",
    "Customer 29876's city: Toronto\n",
    "\n",
    "Customer 29876's province: ON\n",
    "\n",
    "Customer 29876's country: Canada\n",
    "\n",
    "Customer 29876's postal code: M7A1N3\n",
    "\n",
    "When you're working with Customer 29876's information, you want to be\n",
    "able to pick something out of the series by asking, for example, \"What's the\n",
    "customer's province?\" So you create a dictionary.\n",
    "\n",
    "A dictionary works something like a list, but instead of a simple series of\n",
    "things, a dictionary is a series of pairs of things. Each pair contains a key—\"first\n",
    "name\", \"last name\" etc.—and a value—\"David\", \"Elliott\", etc.\n",
    "To pick something out of a dictionary, you specify a particular key and ask\n",
    "what value is paired with it. In other words, if the key is \"first name,\" for\n",
    "example, what is the value? Answer: \"David.\"\n",
    "\n",
    "In the next chapter, I'll show you how to create a dictionary."
   ]
  },
  {
   "cell_type": "code",
   "execution_count": null,
   "metadata": {},
   "outputs": [],
   "source": []
  }
 ],
 "metadata": {
  "kernelspec": {
   "display_name": "Python 3",
   "language": "python",
   "name": "python3"
  },
  "language_info": {
   "codemirror_mode": {
    "name": "ipython",
    "version": 3
   },
   "file_extension": ".py",
   "mimetype": "text/x-python",
   "name": "python",
   "nbconvert_exporter": "python",
   "pygments_lexer": "ipython3",
   "version": "3.7.1"
  }
 },
 "nbformat": 4,
 "nbformat_minor": 2
}
