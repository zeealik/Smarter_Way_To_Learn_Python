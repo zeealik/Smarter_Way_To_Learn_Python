{
 "cells": [
  {
   "cell_type": "markdown",
   "metadata": {},
   "source": [
    "# Comments"
   ]
  },
  {
   "cell_type": "markdown",
   "metadata": {},
   "source": [
    "Comments are for the human, not the machine. For example, a comment\n",
    "can explain a section of code so another programmer can understand it. A\n",
    "comment can help you figure out your code when you come back to it a month\n",
    "or a year later."
   ]
  },
  {
   "cell_type": "code",
   "execution_count": 6,
   "metadata": {},
   "outputs": [],
   "source": [
    "first_name = \"Harry\"\n",
    "last_name = \"Potter\"\n",
    "interest = \"wizardry\""
   ]
  },
  {
   "cell_type": "code",
   "execution_count": 7,
   "metadata": {},
   "outputs": [
    {
     "name": "stdout",
     "output_type": "stream",
     "text": [
      "Hello, world!\n"
     ]
    }
   ],
   "source": [
    "# This is a comment.\n",
    "# This is another comment.\n",
    "# Python ignores these comments.\n",
    "# The code that Python executes is next, on line\n",
    "\n",
    "print(\"Hello, world!\")"
   ]
  },
  {
   "cell_type": "code",
   "execution_count": 8,
   "metadata": {},
   "outputs": [
    {
     "ename": "SyntaxError",
     "evalue": "invalid syntax (<ipython-input-8-c9df49b8613a>, line 3)",
     "output_type": "error",
     "traceback": [
      "\u001b[1;36m  File \u001b[1;32m\"<ipython-input-8-c9df49b8613a>\"\u001b[1;36m, line \u001b[1;32m3\u001b[0m\n\u001b[1;33m    if interest == \"wizardry\"\u001b[0m\n\u001b[1;37m                             ^\u001b[0m\n\u001b[1;31mSyntaxError\u001b[0m\u001b[1;31m:\u001b[0m invalid syntax\n"
     ]
    }
   ],
   "source": [
    "if first_name == \"Harry\":\n",
    "    if last_name == \"Potter\":\n",
    "        if interest == \"wizardry\"\n",
    "            print(\"Welcome back to Hogwarts, Harry!\")"
   ]
  },
  {
   "cell_type": "code",
   "execution_count": 9,
   "metadata": {},
   "outputs": [
    {
     "name": "stdout",
     "output_type": "stream",
     "text": [
      "Welcome back to Hogwarts, Harry!\n"
     ]
    }
   ],
   "source": [
    "# here we see at the output line ,.. it shows error is on line 3 \n",
    "# we have to look closely to line 3 so we'll identify what we did wrong...\n",
    "# and another way is to comment that line\n",
    "\n",
    "# see here\n",
    "\n",
    "if first_name == \"Harry\":\n",
    "    if last_name == \"Potter\":\n",
    "        # if interest == \"wizardry\"\n",
    "            print(\"Welcome back to Hogwarts, Harry!\")"
   ]
  },
  {
   "cell_type": "code",
   "execution_count": 10,
   "metadata": {},
   "outputs": [],
   "source": [
    "# we can write comment infront of our code .. e.g\n",
    "\n",
    "a = 34            # a is a variable whose value is 34"
   ]
  },
  {
   "cell_type": "code",
   "execution_count": 11,
   "metadata": {},
   "outputs": [
    {
     "data": {
      "text/plain": [
       "34"
      ]
     },
     "execution_count": 11,
     "metadata": {},
     "output_type": "execute_result"
    }
   ],
   "source": [
    "a"
   ]
  },
  {
   "cell_type": "code",
   "execution_count": null,
   "metadata": {},
   "outputs": [],
   "source": []
  }
 ],
 "metadata": {
  "kernelspec": {
   "display_name": "Python 3",
   "language": "python",
   "name": "python3"
  },
  "language_info": {
   "codemirror_mode": {
    "name": "ipython",
    "version": 3
   },
   "file_extension": ".py",
   "mimetype": "text/x-python",
   "name": "python",
   "nbconvert_exporter": "python",
   "pygments_lexer": "ipython3",
   "version": "3.7.1"
  }
 },
 "nbformat": 4,
 "nbformat_minor": 2
}
