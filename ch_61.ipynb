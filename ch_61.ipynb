{
 "cells": [
  {
   "cell_type": "markdown",
   "metadata": {},
   "source": [
    "# Classes: Changing an attribute's value"
   ]
  },
  {
   "cell_type": "code",
   "execution_count": 3,
   "metadata": {},
   "outputs": [],
   "source": [
    "class Patient():\n",
    "    def __init__(self, first_name, last_name, age):\n",
    "        self.first_name = first_name\n",
    "        self.last_name = last_name\n",
    "        self.age = age\n",
    "\n",
    "pid4343 = Patient(\"Sue\", \"Taleb\", 61)\n",
    "pid4344 = Patient(\"Waleed\", \"Khan\", 29)\n",
    "pid4345 = Patient(\"Oppenheimer\", \"Douglas\", 15)\n",
    "pid4346 = Patient(\"Lin\", \"Lilly\", 48)\n",
    "pid12902 = Patient(\"Nilsson\", \"Rhonda\", 33)"
   ]
  },
  {
   "cell_type": "markdown",
   "metadata": {},
   "source": [
    "pid4343, Sue Taleb, has remarried. Her new last name is Ortega. We need to\n",
    "revise her record.\n",
    "\n",
    "You already know how to target an attribute of a class instance:\n",
    "\n",
    "    pid4343.last_name\n",
    "\n",
    "Changing the value of the patient's last_name attribute is as easy as this:\n"
   ]
  },
  {
   "cell_type": "code",
   "execution_count": 13,
   "metadata": {},
   "outputs": [],
   "source": [
    "pid4343.last_name = \"Aalia\""
   ]
  },
  {
   "cell_type": "code",
   "execution_count": 17,
   "metadata": {},
   "outputs": [],
   "source": [
    "class Patient():\n",
    "    def __init__(self, last_name, first_name, age):\n",
    "        self.last_name = last_name\n",
    "        self.first_name = first_name\n",
    "        self.age = age\n",
    "    def say_if_minor(self):\n",
    "        if self.age < 21:\n",
    "            print(\"This patient is a minor\")\n",
    "    def change_last_name(self, new_last_name):\n",
    "        self.last_name = new_last_name"
   ]
  },
  {
   "cell_type": "markdown",
   "metadata": {},
   "source": [
    "Lines 9 and 10 define a method named change_last_name.\n",
    "Unlike the say_if_minor method defined in lines 6-8, this method\n",
    "includes a parameter in addition to the required self. \n",
    "\n",
    "I've named this\n",
    "parameter new_last_name…"
   ]
  },
  {
   "cell_type": "markdown",
   "metadata": {},
   "source": [
    "The calling code passes the value \"Ortega\" to the method. The value goes\n",
    "into the parameter new_last_name. And the value is assigned to the\n",
    "last_name attribute of the instance…"
   ]
  },
  {
   "cell_type": "code",
   "execution_count": 21,
   "metadata": {},
   "outputs": [
    {
     "ename": "AttributeError",
     "evalue": "'Patient' object has no attribute 'change_last_name'",
     "output_type": "error",
     "traceback": [
      "\u001b[1;31m---------------------------------------------------------------------------\u001b[0m",
      "\u001b[1;31mAttributeError\u001b[0m                            Traceback (most recent call last)",
      "\u001b[1;32m<ipython-input-21-af5eb63dfc39>\u001b[0m in \u001b[0;36m<module>\u001b[1;34m\u001b[0m\n\u001b[0;32m      1\u001b[0m \u001b[1;31m# This is the calling code:\u001b[0m\u001b[1;33m\u001b[0m\u001b[1;33m\u001b[0m\u001b[1;33m\u001b[0m\u001b[0m\n\u001b[0;32m      2\u001b[0m \u001b[1;33m\u001b[0m\u001b[0m\n\u001b[1;32m----> 3\u001b[1;33m \u001b[0mpid4343\u001b[0m\u001b[1;33m.\u001b[0m\u001b[0mchange_last_name\u001b[0m\u001b[1;33m(\u001b[0m\u001b[1;34m\"Ortega\"\u001b[0m\u001b[1;33m)\u001b[0m\u001b[1;33m\u001b[0m\u001b[1;33m\u001b[0m\u001b[0m\n\u001b[0m\u001b[0;32m      4\u001b[0m \u001b[1;33m\u001b[0m\u001b[0m\n\u001b[0;32m      5\u001b[0m \u001b[1;31m# It starts with the name of the instance…\u001b[0m\u001b[1;33m\u001b[0m\u001b[1;33m\u001b[0m\u001b[1;33m\u001b[0m\u001b[0m\n",
      "\u001b[1;31mAttributeError\u001b[0m: 'Patient' object has no attribute 'change_last_name'"
     ]
    }
   ],
   "source": [
    "# This is the calling code:\n",
    "\n",
    "pid4343.change_last_name(\"Ortega\")\n",
    "\n",
    "# It starts with the name of the instance…\n",
    "\n",
    "# There's a dot followed by the name of the method…\n",
    "\n",
    "# …and, inside the parentheses, the argument to be passed to the method…"
   ]
  },
  {
   "cell_type": "code",
   "execution_count": 19,
   "metadata": {},
   "outputs": [
    {
     "data": {
      "text/plain": [
       "'Aalia'"
      ]
     },
     "execution_count": 19,
     "metadata": {},
     "output_type": "execute_result"
    }
   ],
   "source": [
    "pid4343.last_name"
   ]
  },
  {
   "cell_type": "code",
   "execution_count": null,
   "metadata": {},
   "outputs": [],
   "source": []
  }
 ],
 "metadata": {
  "kernelspec": {
   "display_name": "Python 3",
   "language": "python",
   "name": "python3"
  },
  "language_info": {
   "codemirror_mode": {
    "name": "ipython",
    "version": 3
   },
   "file_extension": ".py",
   "mimetype": "text/x-python",
   "name": "python",
   "nbconvert_exporter": "python",
   "pygments_lexer": "ipython3",
   "version": "3.7.1"
  }
 },
 "nbformat": 4,
 "nbformat_minor": 2
}
