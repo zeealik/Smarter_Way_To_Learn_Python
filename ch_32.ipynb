{
 "cells": [
  {
   "cell_type": "markdown",
   "metadata": {},
   "source": [
    "# Dictionaries: Looping through keys"
   ]
  },
  {
   "cell_type": "code",
   "execution_count": 1,
   "metadata": {},
   "outputs": [],
   "source": [
    "customer_29876 = {\n",
    "    \"first name\": \"David\",\n",
    "    \"last name\": \"Elliott\",\n",
    "    \"address\": \"4803 Wellesley St.\",\n",
    "}"
   ]
  },
  {
   "cell_type": "markdown",
   "metadata": {},
   "source": [
    "In the last chapter you learned to loop through a dictionary, capturing all the\n",
    "values in it:\n",
    "\n",
    "There may be times when you want to capture the keys instead.\n",
    "This is the dictionary:"
   ]
  },
  {
   "cell_type": "code",
   "execution_count": 3,
   "metadata": {},
   "outputs": [
    {
     "name": "stdout",
     "output_type": "stream",
     "text": [
      "first name\n",
      "last name\n",
      "address\n"
     ]
    }
   ],
   "source": [
    "# displays all keys in customer_29876 dictionary\n",
    "\n",
    "for each_key in customer_29876.keys():  \n",
    "    print(each_key)"
   ]
  }
 ],
 "metadata": {
  "kernelspec": {
   "display_name": "Python 3",
   "language": "python",
   "name": "python3"
  },
  "language_info": {
   "codemirror_mode": {
    "name": "ipython",
    "version": 3
   },
   "file_extension": ".py",
   "mimetype": "text/x-python",
   "name": "python",
   "nbconvert_exporter": "python",
   "pygments_lexer": "ipython3",
   "version": "3.7.1"
  }
 },
 "nbformat": 4,
 "nbformat_minor": 2
}
