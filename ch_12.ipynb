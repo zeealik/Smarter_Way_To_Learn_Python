{
 "cells": [
  {
   "cell_type": "markdown",
   "metadata": {},
   "source": [
    "\n",
    "# Testing sets of conditions"
   ]
  },
  {
   "cell_type": "code",
   "execution_count": 6,
   "metadata": {},
   "outputs": [],
   "source": [
    "weight = 333\n",
    "time = 2\n",
    "age = 21\n",
    "height = 65\n",
    "\n",
    "if weight > 300 and time < 6:                   # if both the conditions are true... then next line inside the block \n",
    "    status = \"Try to recruite him !\"            # will be executed"
   ]
  },
  {
   "cell_type": "code",
   "execution_count": 7,
   "metadata": {},
   "outputs": [
    {
     "data": {
      "text/plain": [
       "'Try to recruite him !'"
      ]
     },
     "execution_count": 7,
     "metadata": {},
     "output_type": "execute_result"
    }
   ],
   "source": [
    "status"
   ]
  },
  {
   "cell_type": "code",
   "execution_count": 8,
   "metadata": {},
   "outputs": [],
   "source": [
    "# we can chain any numbers of conditions together ..\n",
    "\n",
    "\n",
    "if weight > 300 and time < 6 and age > 17 and height < 72:          # only works if all the conditions mets.. else will not work\n",
    "    status = \"try to recruit him\""
   ]
  },
  {
   "cell_type": "code",
   "execution_count": 9,
   "metadata": {},
   "outputs": [
    {
     "data": {
      "text/plain": [
       "'try to recruit him'"
      ]
     },
     "execution_count": 9,
     "metadata": {},
     "output_type": "execute_result"
    }
   ],
   "source": [
    "status"
   ]
  },
  {
   "cell_type": "code",
   "execution_count": 13,
   "metadata": {},
   "outputs": [],
   "source": [
    "# 2nd example"
   ]
  },
  {
   "cell_type": "code",
   "execution_count": 12,
   "metadata": {},
   "outputs": [
    {
     "name": "stdout",
     "output_type": "stream",
     "text": [
      "Welcome to Leeds College!\n"
     ]
    }
   ],
   "source": [
    "avg = 60\n",
    "SAT = 78\n",
    "GPA = 3.7\n",
    "parent = \"alum\"\n",
    "\n",
    "# the following line will be executed if any of the below condition met. because we r using OR keyword. It only needs\n",
    "# one condition to be true,,\n",
    "\n",
    "if SAT > avg or GPA > 2.5 or parent == \"alum\":\n",
    "    message = \"Welcome to Leeds College!\"\n",
    "    \n",
    "print(message)"
   ]
  },
  {
   "cell_type": "code",
   "execution_count": 14,
   "metadata": {},
   "outputs": [],
   "source": [
    "# 3rd Example"
   ]
  },
  {
   "cell_type": "code",
   "execution_count": 41,
   "metadata": {},
   "outputs": [
    {
     "name": "stdout",
     "output_type": "stream",
     "text": [
      "hello buddy !\n"
     ]
    }
   ],
   "source": [
    "age = 67\n",
    "res = \"U.K.\"\n",
    "\n",
    "if age > 65 or age < 21 and res == \"U.K.\":\n",
    "    print(\"hello buddy !\")"
   ]
  },
  {
   "cell_type": "markdown",
   "metadata": {},
   "source": [
    "\"\"\"\n",
    "This can be read in either of two ways.\n",
    "\n",
    "The first way it can be read: If the person is over 65 or under 21 and, in\n",
    "addition to either of these conditions, is also a resident of the U.K. Under this\n",
    "interpretation, both columns in the following table need to be true in order for\n",
    "the overall if statement to be true..\n",
    "\n",
    "Over 65 or under 21 Resident of U.K.\n",
    "\n",
    "The second way it can be read: If the person is over 65 and living anywhere\n",
    "or is under 21 and a resident of the U.K. Under this interpretation, if either\n",
    "column in the following table is true, the overall if statement is true.\n",
    "\n",
    "Over 65 Under 21 and U.K. resident\n",
    "\n",
    "It's the same problem you face when you combine mathematical\n",
    "expressions. And you solve it the same way: with parentheses.\n",
    "In the following code, if the subject is over 65 and a U.K. resident, it's a pass.\n",
    "Or, if the subject is under 21 and a U.K. resident, it's a pass.\n",
    "\n",
    "if (age > 65 or age < 21) and res == \"U.K.\":\n",
    "\n",
    "In the following code, if the subject is over 65 and living anywhere, the\n",
    "overall if statement is true. Or, if the subject is under 21 and living in the U.K.,\n",
    "it's a pass.\n",
    "\n",
    "if age > 65 or (age < 21 and res == \"U.K.\"):\n",
    "\n",
    "\"\"\"\n",
    "\n"
   ]
  },
  {
   "cell_type": "code",
   "execution_count": 42,
   "metadata": {},
   "outputs": [],
   "source": [
    "if (age > 65 or age < 21) and res == \"U.K\":\n",
    "    print(\"hello buddy !\")\n",
    "\n",
    "# here its not giving the output as above !"
   ]
  },
  {
   "cell_type": "code",
   "execution_count": null,
   "metadata": {},
   "outputs": [],
   "source": []
  }
 ],
 "metadata": {
  "kernelspec": {
   "display_name": "Python 3",
   "language": "python",
   "name": "python3"
  },
  "language_info": {
   "codemirror_mode": {
    "name": "ipython",
    "version": 3
   },
   "file_extension": ".py",
   "mimetype": "text/x-python",
   "name": "python",
   "nbconvert_exporter": "python",
   "pygments_lexer": "ipython3",
   "version": "3.7.1"
  }
 },
 "nbformat": 4,
 "nbformat_minor": 2
}
