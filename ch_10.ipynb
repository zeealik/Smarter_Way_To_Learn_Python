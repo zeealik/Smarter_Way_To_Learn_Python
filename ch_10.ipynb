{
 "cells": [
  {
   "cell_type": "markdown",
   "metadata": {},
   "source": [
    "# Comparison operators"
   ]
  },
  {
   "cell_type": "code",
   "execution_count": 1,
   "metadata": {},
   "outputs": [
    {
     "name": "stdout",
     "output_type": "stream",
     "text": [
      "You can go to Karachi !\n"
     ]
    }
   ],
   "source": [
    "ticket_num1 = 333\n",
    "\n",
    "if ticket_num1 == 333:\n",
    "    print(\"You can go to Karachi !\")"
   ]
  },
  {
   "cell_type": "code",
   "execution_count": 2,
   "metadata": {},
   "outputs": [
    {
     "name": "stdout",
     "output_type": "stream",
     "text": [
      "You can't go .. \n"
     ]
    }
   ],
   "source": [
    "ticket_num2 = 45\n",
    "\n",
    "if ticket_num2 != 333:\n",
    "    print(\"You can't go .. \")\n",
    "    "
   ]
  },
  {
   "cell_type": "code",
   "execution_count": 3,
   "metadata": {},
   "outputs": [],
   "source": [
    "# In naming variables ,.. It's true that \"Rose\" != \"rose\"."
   ]
  },
  {
   "cell_type": "code",
   "execution_count": 4,
   "metadata": {},
   "outputs": [
    {
     "data": {
      "text/plain": [
       "'\\nHere are 4 more comparison operators, usually used to compare numbers.\\n> is greater than\\n< is less than\\n>= is greater than or equal to\\n<= is less than or equal to\\n\\n'"
      ]
     },
     "execution_count": 4,
     "metadata": {},
     "output_type": "execute_result"
    }
   ],
   "source": [
    "\"\"\"\n",
    "Here are 4 more comparison operators, usually used to compare numbers.\n",
    "> is greater than\n",
    "< is less than\n",
    ">= is greater than or equal to\n",
    "<= is less than or equal to\n",
    "\n",
    "\"\"\""
   ]
  },
  {
   "cell_type": "code",
   "execution_count": 9,
   "metadata": {},
   "outputs": [
    {
     "name": "stdout",
     "output_type": "stream",
     "text": [
      "You are Pakistani\n"
     ]
    }
   ],
   "source": [
    "nationality = \"Pakistani\"\n",
    "\n",
    "if nationality != \"Pakistani\":\n",
    "    print(\"You are not Pakistani\")  # will not run coz condition is False\n",
    "\n",
    "\n",
    "if nationality == \"Pakistani\":      # :)\n",
    "    print(\"You are Pakistani\")"
   ]
  },
  {
   "cell_type": "code",
   "execution_count": null,
   "metadata": {},
   "outputs": [],
   "source": []
  }
 ],
 "metadata": {
  "kernelspec": {
   "display_name": "Python 3",
   "language": "python",
   "name": "python3"
  },
  "language_info": {
   "codemirror_mode": {
    "name": "ipython",
    "version": 3
   },
   "file_extension": ".py",
   "mimetype": "text/x-python",
   "name": "python",
   "nbconvert_exporter": "python",
   "pygments_lexer": "ipython3",
   "version": "3.7.1"
  }
 },
 "nbformat": 4,
 "nbformat_minor": 2
}
