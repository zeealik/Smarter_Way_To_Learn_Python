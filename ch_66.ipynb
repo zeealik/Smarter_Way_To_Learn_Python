{
 "cells": [
  {
   "cell_type": "markdown",
   "metadata": {},
   "source": [
    "# Modules\n"
   ]
  },
  {
   "cell_type": "markdown",
   "metadata": {},
   "source": [
    "In the chapters dealing with functions, you learned how to define a function and\n",
    "how to call it. The function definitions were in the same Python file as the\n",
    "function calls. That is, they were in your main Python program.\n",
    "\n",
    "An alternative is to store some or all functions in separate Python files.\n",
    "These files are called modules.\n",
    "\n",
    "Like any Python file, a module has a filename extension of .py. For example,\n",
    "calculations.py.\n",
    "\n",
    "You can store functions, classes, and more in a module. Most commonly,\n",
    "modules are used to store functions.\n",
    "\n",
    "What's good about modules:\n",
    "Write a function once, call it from any Python program.\n",
    "Keep your main programs shorter and simpler to read.\n",
    "Use code written by other people by importing their modules.\n",
    "It takes just one line in your main program to make all the code in\n",
    "calculations.py available to your main program:\n",
    "\n",
    "    import calculations\n",
    "\n",
    "Note that you omit the filename extension .py.\n",
    "Let's say you have a function in your main program that calculates tax from\n",
    "your main code…"
   ]
  },
  {
   "cell_type": "code",
   "execution_count": 9,
   "metadata": {},
   "outputs": [
    {
     "ename": "ModuleNotFoundError",
     "evalue": "No module named 'calculations'",
     "output_type": "error",
     "traceback": [
      "\u001b[1;31m---------------------------------------------------------------------------\u001b[0m",
      "\u001b[1;31mModuleNotFoundError\u001b[0m                       Traceback (most recent call last)",
      "\u001b[1;32m<ipython-input-9-733953505b3f>\u001b[0m in \u001b[0;36m<module>\u001b[1;34m\u001b[0m\n\u001b[1;32m----> 1\u001b[1;33m \u001b[1;32mimport\u001b[0m \u001b[0mcalculations\u001b[0m\u001b[1;33m\u001b[0m\u001b[1;33m\u001b[0m\u001b[0m\n\u001b[0m\u001b[0;32m      2\u001b[0m \u001b[1;33m\u001b[0m\u001b[0m\n\u001b[0;32m      3\u001b[0m \u001b[1;31m# watch video from youtube to learn link below\u001b[0m\u001b[1;33m\u001b[0m\u001b[1;33m\u001b[0m\u001b[1;33m\u001b[0m\u001b[0m\n\u001b[0;32m      4\u001b[0m \u001b[1;31m# https://www.youtube.com/watch?v=A7E18apPQJs\u001b[0m\u001b[1;33m\u001b[0m\u001b[1;33m\u001b[0m\u001b[1;33m\u001b[0m\u001b[0m\n",
      "\u001b[1;31mModuleNotFoundError\u001b[0m: No module named 'calculations'"
     ]
    }
   ],
   "source": [
    "import calculations\n",
    "\n",
    "# watch video from youtube to learn link below\n",
    "# https://www.youtube.com/watch?v=A7E18apPQJs"
   ]
  },
  {
   "cell_type": "markdown",
   "metadata": {},
   "source": [
    "Note that you omit the filename extension .py.\n",
    "\n",
    "Let's say you have a function in your main program that calculates tax from\n",
    "your main code…"
   ]
  },
  {
   "cell_type": "code",
   "execution_count": 2,
   "metadata": {},
   "outputs": [],
   "source": [
    "def calc_tax(sales_total, tax_rate):\n",
    "    tax = sales_total * tax_rate\n",
    "    return tax"
   ]
  },
  {
   "cell_type": "markdown",
   "metadata": {},
   "source": [
    "You remove the function from your main program and place it in a module\n",
    "named calculations.py.\n",
    "\n",
    "The function code remains the same. But instead of the calling code you\n",
    "would use if the function were in the main program…"
   ]
  },
  {
   "cell_type": "markdown",
   "metadata": {},
   "source": [
    "You let Python know that the function is in the module named\n",
    "calculations.py…"
   ]
  },
  {
   "cell_type": "code",
   "execution_count": 5,
   "metadata": {},
   "outputs": [
    {
     "ename": "ModuleNotFoundError",
     "evalue": "No module named 'calculations'",
     "output_type": "error",
     "traceback": [
      "\u001b[1;31m---------------------------------------------------------------------------\u001b[0m",
      "\u001b[1;31mModuleNotFoundError\u001b[0m                       Traceback (most recent call last)",
      "\u001b[1;32m<ipython-input-5-d5d61336ace3>\u001b[0m in \u001b[0;36m<module>\u001b[1;34m\u001b[0m\n\u001b[1;32m----> 1\u001b[1;33m \u001b[1;32mimport\u001b[0m \u001b[0mcalculations\u001b[0m\u001b[1;33m\u001b[0m\u001b[1;33m\u001b[0m\u001b[0m\n\u001b[0m\u001b[0;32m      2\u001b[0m \u001b[1;33m\u001b[0m\u001b[0m\n\u001b[0;32m      3\u001b[0m \u001b[0mtax_for_this_order\u001b[0m \u001b[1;33m=\u001b[0m \u001b[0mcalculations\u001b[0m\u001b[1;33m.\u001b[0m\u001b[0mcalc_tax\u001b[0m\u001b[1;33m(\u001b[0m\u001b[0msales_total\u001b[0m\u001b[1;33m=\u001b[0m\u001b[1;36m101.37\u001b[0m\u001b[1;33m,\u001b[0m \u001b[0mtax_rate\u001b[0m\u001b[1;33m=\u001b[0m\u001b[1;36m.05\u001b[0m\u001b[1;33m)\u001b[0m\u001b[1;33m\u001b[0m\u001b[1;33m\u001b[0m\u001b[0m\n",
      "\u001b[1;31mModuleNotFoundError\u001b[0m: No module named 'calculations'"
     ]
    }
   ],
   "source": [
    "import calculations\n",
    "\n",
    "tax_for_this_order = calculations.calc_tax(sales_total=101.37, tax_rate=.05)"
   ]
  },
  {
   "cell_type": "code",
   "execution_count": 1,
   "metadata": {},
   "outputs": [],
   "source": [
    "import sys"
   ]
  },
  {
   "cell_type": "code",
   "execution_count": 2,
   "metadata": {},
   "outputs": [
    {
     "data": {
      "text/plain": [
       "['F:\\\\ZEESHAN\\\\Python For All\\\\Repository Code',\n",
       " 'F:\\\\ZEESHAN\\\\Python For All\\\\Repository Code\\\\modules',\n",
       " 'C:\\\\Users\\\\Arslan\\\\Anaconda3\\\\python37.zip',\n",
       " 'C:\\\\Users\\\\Arslan\\\\Anaconda3\\\\DLLs',\n",
       " 'C:\\\\Users\\\\Arslan\\\\Anaconda3\\\\lib',\n",
       " 'C:\\\\Users\\\\Arslan\\\\Anaconda3',\n",
       " '',\n",
       " 'C:\\\\Users\\\\Arslan\\\\AppData\\\\Roaming\\\\Python\\\\Python37\\\\site-packages',\n",
       " 'C:\\\\Users\\\\Arslan\\\\Anaconda3\\\\lib\\\\site-packages',\n",
       " 'C:\\\\Users\\\\Arslan\\\\Anaconda3\\\\lib\\\\site-packages\\\\win32',\n",
       " 'C:\\\\Users\\\\Arslan\\\\Anaconda3\\\\lib\\\\site-packages\\\\win32\\\\lib',\n",
       " 'C:\\\\Users\\\\Arslan\\\\Anaconda3\\\\lib\\\\site-packages\\\\Pythonwin',\n",
       " 'C:\\\\Users\\\\Arslan\\\\Anaconda3\\\\lib\\\\site-packages\\\\IPython\\\\extensions',\n",
       " 'C:\\\\Users\\\\Arslan\\\\.ipython']"
      ]
     },
     "execution_count": 2,
     "metadata": {},
     "output_type": "execute_result"
    }
   ],
   "source": [
    "sys.path"
   ]
  },
  {
   "cell_type": "code",
   "execution_count": null,
   "metadata": {},
   "outputs": [],
   "source": []
  }
 ],
 "metadata": {
  "kernelspec": {
   "display_name": "Python 3",
   "language": "python",
   "name": "python3"
  },
  "language_info": {
   "codemirror_mode": {
    "name": "ipython",
    "version": 3
   },
   "file_extension": ".py",
   "mimetype": "text/x-python",
   "name": "python",
   "nbconvert_exporter": "python",
   "pygments_lexer": "ipython3",
   "version": "3.7.1"
  }
 },
 "nbformat": 4,
 "nbformat_minor": 2
}
