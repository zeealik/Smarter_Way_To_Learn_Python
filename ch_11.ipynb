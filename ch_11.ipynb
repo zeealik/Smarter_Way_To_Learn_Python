{
 "cells": [
  {
   "cell_type": "markdown",
   "metadata": {},
   "source": [
    "# else and elif statements"
   ]
  },
  {
   "cell_type": "code",
   "execution_count": 2,
   "metadata": {},
   "outputs": [
    {
     "name": "stdout",
     "output_type": "stream",
     "text": [
      "Hi Zeeshan\n"
     ]
    }
   ],
   "source": [
    "name = \"Zeeshan\"\n",
    "\n",
    "if name == \"Zeeshan\":\n",
    "    print(\"Hi Zeeshan\")\n",
    "else:                                    # if all condition fails , else is then executed !\n",
    "    print(\"I don't know you\")"
   ]
  },
  {
   "cell_type": "code",
   "execution_count": 4,
   "metadata": {},
   "outputs": [
    {
     "name": "stdout",
     "output_type": "stream",
     "text": [
      "I don't know you\n"
     ]
    }
   ],
   "source": [
    "if name == \"zeeshan\":                # Z and z has different meanings in Python...\n",
    "    print(\"Hi Zeeshan\")\n",
    "else:                                    # if all condition fails , else is then executed !\n",
    "    print(\"I don't know you\")"
   ]
  },
  {
   "cell_type": "code",
   "execution_count": 7,
   "metadata": {},
   "outputs": [
    {
     "name": "stdout",
     "output_type": "stream",
     "text": [
      "Hi Zeeshan\n"
     ]
    }
   ],
   "source": [
    "# elif statements\n",
    "\n",
    "# These statements are used when there are multiple conditions and one of them should be executed\n",
    "\n",
    "\n",
    "if name == \"Ali\":\n",
    "    print(\"Hi Ali\")\n",
    "elif name == \"Khan\":\n",
    "    print(\"Hi Khan\")\n",
    "elif name == \"Zeeshan\":        # this one will be executed as it is the only true condition in all of them\n",
    "    print(\"Hi Zeeshan\")\n",
    "else:\n",
    "    print(\"Hi anyone\")"
   ]
  },
  {
   "cell_type": "code",
   "execution_count": 13,
   "metadata": {},
   "outputs": [],
   "source": [
    "donut_condition = \"not fresh\"\n",
    "donut_filling = \"chocolate\"\n",
    "donut_price = \"reasonable\"\n",
    "buy_score = 0\n",
    "\n",
    "if donut_condition == \"fresh\":\n",
    "    buy_score += 10\n",
    "if donut_filling == \"chocolate\":       # passed\n",
    "    buy_score += 5\n",
    "if donut_price == \"reasonable\":        # passed\n",
    "    buy_score += 7"
   ]
  },
  {
   "cell_type": "code",
   "execution_count": 14,
   "metadata": {},
   "outputs": [
    {
     "data": {
      "text/plain": [
       "12"
      ]
     },
     "execution_count": 14,
     "metadata": {},
     "output_type": "execute_result"
    }
   ],
   "source": [
    "buy_score"
   ]
  },
  {
   "cell_type": "code",
   "execution_count": null,
   "metadata": {},
   "outputs": [],
   "source": []
  }
 ],
 "metadata": {
  "kernelspec": {
   "display_name": "Python 3",
   "language": "python",
   "name": "python3"
  },
  "language_info": {
   "codemirror_mode": {
    "name": "ipython",
    "version": 3
   },
   "file_extension": ".py",
   "mimetype": "text/x-python",
   "name": "python",
   "nbconvert_exporter": "python",
   "pygments_lexer": "ipython3",
   "version": "3.7.1"
  }
 },
 "nbformat": 4,
 "nbformat_minor": 2
}
