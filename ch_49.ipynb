{
 "cells": [
  {
   "cell_type": "markdown",
   "metadata": {},
   "source": [
    "# Functions: Local vs. global variables"
   ]
  },
  {
   "cell_type": "markdown",
   "metadata": {},
   "source": [
    "Now we come to the subject of variable scope. That is, the difference between\n",
    "global and local variables. Some variables have global scope, which makes them\n",
    "global variables. Other variables have local scope, which makes them local\n",
    "variables.\n",
    "\n",
    "A global variable is one you define in the main body of your code—that is,\n",
    "not in a function."
   ]
  },
  {
   "cell_type": "code",
   "execution_count": 7,
   "metadata": {},
   "outputs": [],
   "source": [
    "# what_to_say = \"Hi\""
   ]
  },
  {
   "cell_type": "markdown",
   "metadata": {},
   "source": [
    "A local variable is one that you define in a function."
   ]
  },
  {
   "cell_type": "code",
   "execution_count": 6,
   "metadata": {},
   "outputs": [
    {
     "data": {
      "text/plain": [
       "'Hi'"
      ]
     },
     "execution_count": 6,
     "metadata": {},
     "output_type": "execute_result"
    }
   ],
   "source": [
    "def say_something():\n",
    "    what_to_say = \"Hi\"\n",
    "    return what_to_say\n",
    "\n",
    "say_something()"
   ]
  },
  {
   "cell_type": "markdown",
   "metadata": {},
   "source": [
    "What makes a global variable global is that it is recognized everywhere in\n",
    "your code. Global scope is like global fame. Wherever you go in the world,\n",
    "they've heard of the pope.\n",
    "\n",
    "A local variable is one that's recognized only within the function that\n",
    "introduces it. Local scope is like local fame. The mayor of Duluth is known only\n",
    "in Duluth.\n",
    "\n",
    "Let's say you write, in your main code…"
   ]
  },
  {
   "cell_type": "code",
   "execution_count": 2,
   "metadata": {},
   "outputs": [],
   "source": [
    "# what_to_say = \"Hi\"\n",
    "# it is commented because in the below cell, there is assumed if it is not declared\n",
    "# outside the main body so it'll throw error.. "
   ]
  },
  {
   "cell_type": "markdown",
   "metadata": {},
   "source": [
    "… you can use the variable anywhere.\n",
    "But if you write, in a function…"
   ]
  },
  {
   "cell_type": "code",
   "execution_count": 1,
   "metadata": {},
   "outputs": [],
   "source": [
    "def say_something():\n",
    "    what_to_say = \"Hi\""
   ]
  },
  {
   "cell_type": "markdown",
   "metadata": {},
   "source": [
    "…and you try to use the variable what_to_say in your main code or in\n",
    "another function…\n"
   ]
  },
  {
   "cell_type": "code",
   "execution_count": 2,
   "metadata": {},
   "outputs": [
    {
     "ename": "NameError",
     "evalue": "name 'what_to_say' is not defined",
     "output_type": "error",
     "traceback": [
      "\u001b[1;31m---------------------------------------------------------------------------\u001b[0m",
      "\u001b[1;31mNameError\u001b[0m                                 Traceback (most recent call last)",
      "\u001b[1;32m<ipython-input-2-d2341f605d78>\u001b[0m in \u001b[0;36m<module>\u001b[1;34m\u001b[0m\n\u001b[1;32m----> 1\u001b[1;33m \u001b[0mprint\u001b[0m\u001b[1;33m(\u001b[0m\u001b[0mwhat_to_say\u001b[0m\u001b[1;33m)\u001b[0m\u001b[1;33m\u001b[0m\u001b[1;33m\u001b[0m\u001b[0m\n\u001b[0m",
      "\u001b[1;31mNameError\u001b[0m: name 'what_to_say' is not defined"
     ]
    }
   ],
   "source": [
    "print(what_to_say) "
   ]
  },
  {
   "cell_type": "code",
   "execution_count": 5,
   "metadata": {},
   "outputs": [
    {
     "ename": "NameError",
     "evalue": "name 'b' is not defined",
     "output_type": "error",
     "traceback": [
      "\u001b[1;31m---------------------------------------------------------------------------\u001b[0m",
      "\u001b[1;31mNameError\u001b[0m                                 Traceback (most recent call last)",
      "\u001b[1;32m<ipython-input-5-cadeab7e6ab0>\u001b[0m in \u001b[0;36m<module>\u001b[1;34m\u001b[0m\n\u001b[0;32m      7\u001b[0m \u001b[1;31m# If, outside the function, you write…\u001b[0m\u001b[1;33m\u001b[0m\u001b[1;33m\u001b[0m\u001b[1;33m\u001b[0m\u001b[0m\n\u001b[0;32m      8\u001b[0m \u001b[1;33m\u001b[0m\u001b[0m\n\u001b[1;32m----> 9\u001b[1;33m \u001b[0mprint\u001b[0m\u001b[1;33m(\u001b[0m\u001b[0mb\u001b[0m\u001b[1;33m)\u001b[0m\u001b[1;33m\u001b[0m\u001b[1;33m\u001b[0m\u001b[0m\n\u001b[0m\u001b[0;32m     10\u001b[0m \u001b[0mprint\u001b[0m\u001b[1;33m(\u001b[0m\u001b[0mc\u001b[0m\u001b[1;33m)\u001b[0m\u001b[1;33m\u001b[0m\u001b[1;33m\u001b[0m\u001b[0m\n\u001b[0;32m     11\u001b[0m \u001b[0mprint\u001b[0m\u001b[1;33m(\u001b[0m\u001b[0mtotal\u001b[0m\u001b[1;33m)\u001b[0m\u001b[1;33m\u001b[0m\u001b[1;33m\u001b[0m\u001b[0m\n",
      "\u001b[1;31mNameError\u001b[0m: name 'b' is not defined"
     ]
    }
   ],
   "source": [
    "# In the following code, b, c, and total are local.\n",
    "\n",
    "def whatever(b, c):\n",
    "    total = b + c\n",
    "    return total\n",
    "\n",
    "# If, outside the function, you write…\n",
    "\n",
    "print(b)\n",
    "print(c)\n",
    "print(total)"
   ]
  },
  {
   "cell_type": "markdown",
   "metadata": {},
   "source": [
    "…you'll get an error message.\n",
    "On the other hand, if you write the print statements within the function\n",
    "where they're defined…"
   ]
  },
  {
   "cell_type": "code",
   "execution_count": 6,
   "metadata": {},
   "outputs": [],
   "source": [
    "def whatever(b, c):\n",
    "    total = b + c\n",
    "    print(b)\n",
    "    print(c)\n",
    "    print(total)"
   ]
  },
  {
   "cell_type": "markdown",
   "metadata": {},
   "source": [
    "…Python has no problem. A variable defined in a function is recognized\n",
    "inside the function—and only inside the function.\n",
    "Code outside a function can't use variables defined inside the function, but\n",
    "code inside the function can use variables defined in the main code. Remember,\n",
    "variables defined in the main code are global, meaning that they're recognized\n",
    "everywhere, including inside functions. So if you write…"
   ]
  },
  {
   "cell_type": "code",
   "execution_count": 8,
   "metadata": {},
   "outputs": [
    {
     "name": "stdout",
     "output_type": "stream",
     "text": [
      "2\n"
     ]
    }
   ],
   "source": [
    "a = 2\n",
    "\n",
    "#…then you write…\n",
    "\n",
    "def display_number():\n",
    "    print(a)\n",
    "display_number()"
   ]
  },
  {
   "cell_type": "markdown",
   "metadata": {},
   "source": [
    "…it'll work.\n",
    "\n",
    "However, good coders avoid using global variables inside functions, because\n",
    "it's confusing. It's better to pass values to functions using arguments. It's better\n",
    "to keep all the variables used in functions local.\n",
    "Now look at this code, a function definition and three statements outside\n",
    "the function:"
   ]
  },
  {
   "cell_type": "code",
   "execution_count": 12,
   "metadata": {},
   "outputs": [
    {
     "name": "stdout",
     "output_type": "stream",
     "text": [
      "2\n",
      "1\n"
     ]
    }
   ],
   "source": [
    "def whatever():\n",
    "    y = 2 # local\n",
    "    print(y)\n",
    "\n",
    "y = 1 # global\n",
    "whatever()\n",
    "print(y)"
   ]
  },
  {
   "cell_type": "markdown",
   "metadata": {},
   "source": [
    "The function defines y as 2. Later, the main code defines y as 1. Next, it\n",
    "calls the function. After the function call, the value of y."
   ]
  },
  {
   "cell_type": "markdown",
   "metadata": {},
   "source": [
    "On line 3 the function displays the value of y as it's defined inside the\n",
    "function—the value 2. After the function runs, you might think that\n",
    "the main code would display y as 2 also, because, after all, the function assigned\n",
    "y the value 2, and it did this after the main code assigned y the value 1. But\n",
    "that's not what happens.\n",
    "\n",
    "The function displays the value 2, and then the main code displays the value 1.\n",
    "\n",
    "This is because y is two different variables that (confusingly) happen to have\n",
    "the same name! Inside the function, y is a local variable because the function\n",
    "assigns it a value. This variable called y is unknown outside the function. What\n",
    "happens to the local variable y inside the function doesn't affect the global\n",
    "variable y outside the function. The global variable retains the value of 1 that it\n",
    "was assigned in the main body.\n"
   ]
  }
 ],
 "metadata": {
  "kernelspec": {
   "display_name": "Python 3",
   "language": "python",
   "name": "python3"
  },
  "language_info": {
   "codemirror_mode": {
    "name": "ipython",
    "version": 3
   },
   "file_extension": ".py",
   "mimetype": "text/x-python",
   "name": "python",
   "nbconvert_exporter": "python",
   "pygments_lexer": "ipython3",
   "version": "3.7.1"
  }
 },
 "nbformat": 4,
 "nbformat_minor": 2
}
