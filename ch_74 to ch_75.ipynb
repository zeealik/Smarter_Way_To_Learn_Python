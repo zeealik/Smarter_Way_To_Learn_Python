{
 "cells": [
  {
   "cell_type": "markdown",
   "metadata": {},
   "source": [
    "# How to save a Python list or dictionary in a file:JSON"
   ]
  },
  {
   "cell_type": "code",
   "execution_count": 1,
   "metadata": {},
   "outputs": [
    {
     "name": "stdout",
     "output_type": "stream",
     "text": [
      "Hello, world!\n"
     ]
    }
   ],
   "source": [
    "# In an earlier chapter you learned how to save text in a file…\n",
    "\n",
    "with open(\"greet.txt\", \"w\") as f:\n",
    "    f.write(\"Hello, world!\")\n",
    "\n",
    "# …and how to retrieve the text from the file…\n",
    "\n",
    "with open(\"greet.txt\", \"r\") as f:\n",
    "    text_of_file = f.read()\n",
    "\n",
    "# Then if you write…\n",
    "\n",
    "print(text_of_file)\n",
    "\n",
    "# …Python displays…\n",
    "\n",
    "# Hello, World!"
   ]
  },
  {
   "cell_type": "markdown",
   "metadata": {},
   "source": [
    "Now suppose you want to save something besides a text string. Let's say you\n",
    "want to save a Python list."
   ]
  },
  {
   "cell_type": "code",
   "execution_count": 2,
   "metadata": {},
   "outputs": [
    {
     "ename": "TypeError",
     "evalue": "write() argument must be str, not list",
     "output_type": "error",
     "traceback": [
      "\u001b[1;31m---------------------------------------------------------------------------\u001b[0m",
      "\u001b[1;31mTypeError\u001b[0m                                 Traceback (most recent call last)",
      "\u001b[1;32m<ipython-input-2-79570c21a67c>\u001b[0m in \u001b[0;36m<module>\u001b[1;34m\u001b[0m\n\u001b[0;32m      1\u001b[0m \u001b[0malphabet_letters\u001b[0m \u001b[1;33m=\u001b[0m \u001b[1;33m[\u001b[0m\u001b[1;34m\"a\"\u001b[0m\u001b[1;33m,\u001b[0m \u001b[1;34m\"b\"\u001b[0m\u001b[1;33m,\u001b[0m \u001b[1;34m\"c\"\u001b[0m\u001b[1;33m]\u001b[0m\u001b[1;33m\u001b[0m\u001b[1;33m\u001b[0m\u001b[0m\n\u001b[0;32m      2\u001b[0m \u001b[1;32mwith\u001b[0m \u001b[0mopen\u001b[0m\u001b[1;33m(\u001b[0m\u001b[1;34m\"alphabet_list.txt\"\u001b[0m\u001b[1;33m,\u001b[0m \u001b[1;34m\"w\"\u001b[0m\u001b[1;33m)\u001b[0m \u001b[1;32mas\u001b[0m \u001b[0mf\u001b[0m\u001b[1;33m:\u001b[0m\u001b[1;33m\u001b[0m\u001b[1;33m\u001b[0m\u001b[0m\n\u001b[1;32m----> 3\u001b[1;33m     \u001b[0mf\u001b[0m\u001b[1;33m.\u001b[0m\u001b[0mwrite\u001b[0m\u001b[1;33m(\u001b[0m\u001b[0malphabet_letters\u001b[0m\u001b[1;33m)\u001b[0m\u001b[1;33m\u001b[0m\u001b[1;33m\u001b[0m\u001b[0m\n\u001b[0m\u001b[0;32m      4\u001b[0m \u001b[1;33m\u001b[0m\u001b[0m\n\u001b[0;32m      5\u001b[0m \u001b[1;31m# The code above produces an error message:\u001b[0m\u001b[1;33m\u001b[0m\u001b[1;33m\u001b[0m\u001b[1;33m\u001b[0m\u001b[0m\n",
      "\u001b[1;31mTypeError\u001b[0m: write() argument must be str, not list"
     ]
    }
   ],
   "source": [
    "alphabet_letters = [\"a\", \"b\", \"c\"]\n",
    "with open(\"alphabet_list.txt\", \"w\") as f:\n",
    "    f.write(alphabet_letters)\n",
    "\n",
    "# The code above produces an error message:\n",
    "\n",
    "# TypeError: write() argument must be str, not list"
   ]
  },
  {
   "cell_type": "markdown",
   "metadata": {},
   "source": [
    "#### You can't save a Python list in a text file.\n",
    "\n",
    "#### You can only save a text string.\n",
    "\n",
    "You can save a list in a CSV file, but a more straightforward approach is to\n",
    "use JSON. The four characters stand for JavaScript Object Notation. As the\n",
    "name suggests, it was created for JavaScript developers. But Python coders can\n",
    "use it, too.\n",
    "\n",
    "It's pronounced JAY-sun.\n",
    "\n",
    "The json module is included in the Python 3 package that you've installed on\n",
    "your computer. You begin by importing it:"
   ]
  },
  {
   "cell_type": "code",
   "execution_count": 4,
   "metadata": {},
   "outputs": [],
   "source": [
    "import json\n",
    "\n",
    "# You've defined a list:\n",
    "\n",
    "alphabet_letters = [\"a\", \"b\", \"c\"]\n",
    "\n",
    "# To save the list, you open a file as usual (creating it if it doesn't exist):\n",
    "\n",
    "with open(\"alphabet_list.json\", \"w\") as f:\n",
    "      json.dump(alphabet_letters, f)\n",
    "        \n",
    "#     The next line writes the list to the file:\n",
    "        \n",
    "# The line begins with the name of the module…\n",
    "\n",
    "#     Then comes a dot followed by the name of the function we're calling, dump…\n",
    "\n",
    "# The function call takes two arguments, the variable name of the list we'restoring …\n",
    "\n",
    "# …and the file handle we've assigned for the file where we're storing thelist…\n"
   ]
  },
  {
   "cell_type": "code",
   "execution_count": 7,
   "metadata": {},
   "outputs": [],
   "source": [
    "# If you've defined a dictionary…\n",
    "\n",
    "customer_29876 = {\n",
    "    \"first name\": \"David\",\n",
    "    \"last name\": \"Elliott\",\n",
    "    \"address\": \"4803 Wellesley St.\",\n",
    "}\n",
    "\n",
    "# …you save it the same way:\n",
    "\n",
    "with open(\"customer_29876.json\", \"w\") as f:\n",
    "    json.dump(customer_29876,f)"
   ]
  },
  {
   "cell_type": "markdown",
   "metadata": {},
   "source": [
    "# How to retrieve a Python list or dictionary from a JSON file"
   ]
  },
  {
   "cell_type": "markdown",
   "metadata": {},
   "source": [
    "In the last chapter, you learned how to save a Python list or dictionary in a file\n",
    "using the json module.\n",
    "\n",
    "This is the dictionary:"
   ]
  },
  {
   "cell_type": "code",
   "execution_count": 8,
   "metadata": {},
   "outputs": [],
   "source": [
    "customer_29876 = {\n",
    "    \"first name\": \"David\",\n",
    "    \"last name\": \"Elliott\",\n",
    "    \"address\": \"4803 Wellesley St.\",\n",
    "}"
   ]
  },
  {
   "cell_type": "markdown",
   "metadata": {},
   "source": [
    "You saved the dictionary in a file called customer_29876.json.\n",
    "Now you want to retrieve it.\n",
    "\n",
    "I'm assuming you've already imported the json module. If you haven't, you'd\n",
    "do that.\n",
    "\n",
    "You begin by opening the file for reading, as usual:"
   ]
  },
  {
   "cell_type": "code",
   "execution_count": 10,
   "metadata": {},
   "outputs": [],
   "source": [
    "with open(\"customer_29876.json\") as f:\n",
    "    customer_29876 = json.load(f)"
   ]
  },
  {
   "cell_type": "markdown",
   "metadata": {},
   "source": [
    "Then you call the load function of the json module, specifying the file\n",
    "handle I've assigned to customer_29876.json, f. \n",
    "\n",
    "The dictionary is\n",
    "retrieved and stored in the variable I've named customer_29876"
   ]
  },
  {
   "cell_type": "code",
   "execution_count": 13,
   "metadata": {},
   "outputs": [
    {
     "name": "stdout",
     "output_type": "stream",
     "text": [
      "{'first name': 'David', 'last name': 'Elliott', 'address': '4803 Wellesley St.'}\n"
     ]
    }
   ],
   "source": [
    "# If you write…\n",
    "\n",
    "print(customer_29876)\n",
    "\n",
    "# …Python displays the dictionary that you saved in the file and have now retrieved…"
   ]
  },
  {
   "cell_type": "code",
   "execution_count": 14,
   "metadata": {},
   "outputs": [
    {
     "name": "stdout",
     "output_type": "stream",
     "text": [
      "Elliott\n"
     ]
    }
   ],
   "source": [
    "# If you write…\n",
    "\n",
    "print(customer_29876[\"last name\"])\n",
    "\n",
    "# …Python displays…"
   ]
  }
 ],
 "metadata": {
  "kernelspec": {
   "display_name": "Python 3",
   "language": "python",
   "name": "python3"
  },
  "language_info": {
   "codemirror_mode": {
    "name": "ipython",
    "version": 3
   },
   "file_extension": ".py",
   "mimetype": "text/x-python",
   "name": "python",
   "nbconvert_exporter": "python",
   "pygments_lexer": "ipython3",
   "version": "3.7.1"
  }
 },
 "nbformat": 4,
 "nbformat_minor": 2
}
