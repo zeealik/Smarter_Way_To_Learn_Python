{
 "cells": [
  {
   "cell_type": "markdown",
   "metadata": {},
   "source": [
    "# if statements nested"
   ]
  },
  {
   "cell_type": "code",
   "execution_count": 8,
   "metadata": {},
   "outputs": [],
   "source": [
    "x = 55\n",
    "y = 55\n",
    "a = 63\n",
    "b = 32\n",
    "c = 88\n",
    "d = 88\n",
    "e = 34\n",
    "f = 87\n",
    "g = 21\n",
    "h = 61"
   ]
  },
  {
   "cell_type": "code",
   "execution_count": 10,
   "metadata": {},
   "outputs": [
    {
     "name": "stdout",
     "output_type": "stream",
     "text": [
      "34 87\n"
     ]
    }
   ],
   "source": [
    "# it'll first check the ( ) condition.. if one of them is true ..ok ,,, now check the and condition ...it must be true...\n",
    "# ok... now if it is true... assign the value of h to g.. and get out of that block of code..\n",
    "\n",
    "\n",
    "# In case .. if fails.... assign the value of f to e..\n",
    "\n",
    "if (x == y or a == b) and c == d:\n",
    "     g = h\n",
    "else:\n",
    "    e = f\n",
    "\n",
    "print(e,f)"
   ]
  },
  {
   "cell_type": "code",
   "execution_count": 14,
   "metadata": {},
   "outputs": [
    {
     "name": "stdout",
     "output_type": "stream",
     "text": [
      "34 87\n"
     ]
    }
   ],
   "source": [
    "# an alternative way of the above code ... by using elif statements\n",
    "\n",
    "if c == d:              # first level if block\n",
    "    if x == y:            # second level  if block\n",
    "        g = h\n",
    "    elif a == b:\n",
    "        g = h\n",
    "    else:\n",
    "        e = f\n",
    "else:\n",
    "    e = f\n",
    "    \n",
    "print(e,f)"
   ]
  },
  {
   "cell_type": "code",
   "execution_count": null,
   "metadata": {},
   "outputs": [],
   "source": []
  }
 ],
 "metadata": {
  "kernelspec": {
   "display_name": "Python 3",
   "language": "python",
   "name": "python3"
  },
  "language_info": {
   "codemirror_mode": {
    "name": "ipython",
    "version": 3
   },
   "file_extension": ".py",
   "mimetype": "text/x-python",
   "name": "python",
   "nbconvert_exporter": "python",
   "pygments_lexer": "ipython3",
   "version": "3.7.1"
  }
 },
 "nbformat": 4,
 "nbformat_minor": 2
}
