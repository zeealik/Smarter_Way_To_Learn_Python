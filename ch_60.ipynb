{
 "cells": [
  {
   "cell_type": "markdown",
   "metadata": {},
   "source": [
    "# Classes: Coding a method"
   ]
  },
  {
   "cell_type": "code",
   "execution_count": 3,
   "metadata": {},
   "outputs": [],
   "source": [
    "class Patient():\n",
    "    def __init__(self, first_name, last_name, age):\n",
    "        self.first_name = first_name\n",
    "        self.last_name = last_name\n",
    "        self.age = age\n",
    "\n",
    "pid4343 = Patient(\"Ahsan\", \"Khan\", 61)\n",
    "pid4344 = Patient(\"Waleed\", \"Khan\", 29)\n",
    "pid4345 = Patient(\"Oppenheimer\", \"Douglas\", 15)\n",
    "pid4346 = Patient(\"Lin\", \"Lilly\", 48)\n",
    "pid12902 = Patient(\"Nilsson\", \"Rhonda\", 33)"
   ]
  },
  {
   "cell_type": "code",
   "execution_count": 4,
   "metadata": {},
   "outputs": [
    {
     "name": "stdout",
     "output_type": "stream",
     "text": [
      "Ahsan Khan is not a minor\n"
     ]
    }
   ],
   "source": [
    "# This is the freestanding function that you saw in the last chapter:\n",
    "\n",
    "def say_if_minor(patient_first_name, patient_last_name, patient_age):\n",
    "    if patient_age < 21:\n",
    "        print(patient_first_name + \" \" + patient_last_name + \" is a minor\")\n",
    "    else:\n",
    "        print(patient_first_name + \" \" + patient_last_name + \" is not a minor\")\n",
    "\n",
    "# The code that calls the function passes three arguments to it…\n",
    "\n",
    "say_if_minor(pid4343.first_name, pid4343.last_name, pid4343.age)\n",
    "\n",
    "# …and these arguments are loaded into the function's three parameters…\n",
    "\n"
   ]
  },
  {
   "cell_type": "markdown",
   "metadata": {},
   "source": [
    "But when you call a method within a class, you don't pass attributes to the\n",
    "method. Since the method is part of the instance definition that also includes the\n",
    "attribute values, the method already knows those values."
   ]
  },
  {
   "cell_type": "code",
   "execution_count": 5,
   "metadata": {},
   "outputs": [],
   "source": [
    "# Here's the Patient class with the method added:\n",
    "\n",
    "class Patient():\n",
    "    def __init__(self, first_name, last_name, age):\n",
    "        self.first_name = first_name\n",
    "        self.last_name = last_name\n",
    "        self.age = age\n",
    "    def say_if_minor(self):\n",
    "        if self.age < 21:\n",
    "            print(\"This patient is a minor\")\n",
    "        else:\n",
    "            print(\"This patient is not minor\")"
   ]
  },
  {
   "cell_type": "markdown",
   "metadata": {},
   "source": [
    "It's similar to the freestanding function, but instead of writing…\n",
    "\n",
    "    def say_if_minor(pid4343.first_name, pid4343.last_name, pid4343.age)\n",
    "\n",
    "…you write…\n",
    "\n",
    "    def say_if_minor(self):"
   ]
  },
  {
   "cell_type": "markdown",
   "metadata": {},
   "source": [
    "Since self refers to the instance pid4343, if you write\n",
    "self.first_name, the method knows you're referring to the\n",
    "first_name attribute of pid4343, \"Ahsan\". \n",
    "\n",
    "If you write self.last_name, the method knows you're referring to the last_name\n",
    "attribute of pid4343, \"Khan\".\n",
    "\n",
    "If you write self.age, the method knows\n",
    "you're referring to the age attribute of pid4343, 61.\n",
    "\n",
    "See how lines 7, 8, 9, 10 use those values:"
   ]
  },
  {
   "cell_type": "code",
   "execution_count": 9,
   "metadata": {},
   "outputs": [],
   "source": [
    "class Patient():\n",
    "    def __init__(self, first_name, last_name, age):\n",
    "        self.first_name = first_name\n",
    "        self.last_name = last_name\n",
    "        self.age = age\n",
    "    def say_if_minor(self):\n",
    "        if self.age < 21:\n",
    "            print(self.first_name + \" \" + self.last_name + \" is a minor\")\n",
    "        else:\n",
    "            print(self.first_name + \" \" + self.last_name + \" is not minor\")"
   ]
  },
  {
   "cell_type": "markdown",
   "metadata": {},
   "source": [
    "About indentation: Note that the first line of the method definition is\n",
    "indented two levels, like the attribute definitions on lines 3 through 6. The body\n",
    "of the method definition is indented further."
   ]
  },
  {
   "cell_type": "markdown",
   "metadata": {},
   "source": [
    "To review:\n",
    "The first line of a method definition always takes the same single parameter,\n",
    "self:\n",
    "    \n",
    "        def say_if_minor(self):\n",
    "\n",
    "All of the attributes of the instance are available to the method when you\n",
    "connect self by a dot with the attribute names:\n",
    "\n",
    "    if self.age < 21:\n",
    "        print(self.first_name + \" \" + self.last_name + \" is a minor\")"
   ]
  }
 ],
 "metadata": {
  "kernelspec": {
   "display_name": "Python 3",
   "language": "python",
   "name": "python3"
  },
  "language_info": {
   "codemirror_mode": {
    "name": "ipython",
    "version": 3
   },
   "file_extension": ".py",
   "mimetype": "text/x-python",
   "name": "python",
   "nbconvert_exporter": "python",
   "pygments_lexer": "ipython3",
   "version": "3.7.1"
  }
 },
 "nbformat": 4,
 "nbformat_minor": 2
}
