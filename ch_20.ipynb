{
 "cells": [
  {
   "cell_type": "markdown",
   "metadata": {},
   "source": [
    "# Tuples"
   ]
  },
  {
   "cell_type": "markdown",
   "metadata": {},
   "source": [
    "A tuple—pronounced \"toople\" by some people and \"tupple\" by others—is like a\n",
    "list, but the elements are fixed. They can't be changed—unless you redefine the\n",
    "whole tuple."
   ]
  },
  {
   "cell_type": "code",
   "execution_count": 2,
   "metadata": {},
   "outputs": [
    {
     "data": {
      "text/plain": [
       "('Delaware', 'Pennsylvania', 'New Jersey', 'Georgia')"
      ]
     },
     "execution_count": 2,
     "metadata": {},
     "output_type": "execute_result"
    }
   ],
   "source": [
    "states_in_order_of_founding = (\"Delaware\", \"Pennsylvania\", \"New Jersey\", \"Georgia\")\n",
    "states_in_order_of_founding"
   ]
  },
  {
   "cell_type": "code",
   "execution_count": 4,
   "metadata": {},
   "outputs": [
    {
     "name": "stdout",
     "output_type": "stream",
     "text": [
      "The second state founded was Pennsylvania\n"
     ]
    }
   ],
   "source": [
    "# You pick a particular element out of a tuple the same way you pick an element out of a list:\n",
    "# and you can assign it to a new variable\n",
    "\n",
    "second_state_founded = states_in_order_of_founding[1]\n",
    "print(\"The second state founded was \" + second_state_founded)"
   ]
  },
  {
   "cell_type": "markdown",
   "metadata": {},
   "source": [
    "Like a list, a tuple starts numbering at 0, so\n",
    "states_in_order_of_founding[1] is second in the series. It's\n",
    "\"Pennsylvania\". That's the string assigned to second_state_founded.\n",
    "Python displays:\n",
    "The second state founded was Pennsylvania"
   ]
  },
  {
   "cell_type": "markdown",
   "metadata": {},
   "source": [
    "As I said, a tuple doesn't allow you to make any changes in any of the ways\n",
    "that a list allows. You can't add, modify, remove, delete, or pop. If you must\n",
    "make a change, you have to define the tuple all over again. For example,\n",
    "suppose Pennsylvians vote to change the name of their state to\n",
    "Taylorswiftsylvania. You've got to recode the whole tuple:\n",
    "\n",
    "states_in_order_of_founding = (\"Delaware\",\n",
    "\"Taylorswiftsylvania formerly known as\n",
    "Pennsylvania\", \"New Jersey\", \"Georgia\")\n",
    "\n",
    "If the order of elements changes for any reason, you have to re-code the\n",
    "whole tuple, too."
   ]
  },
  {
   "cell_type": "code",
   "execution_count": 5,
   "metadata": {},
   "outputs": [
    {
     "name": "stdout",
     "output_type": "stream",
     "text": [
      "(3, 5, 6)\n"
     ]
    }
   ],
   "source": [
    "# simple tuple \n",
    "\n",
    "tuple = (3, 5, 6)\n",
    "print(tuple)"
   ]
  },
  {
   "cell_type": "code",
   "execution_count": 7,
   "metadata": {},
   "outputs": [
    {
     "name": "stdout",
     "output_type": "stream",
     "text": [
      "('khan', 'zeeshan', 777)\n"
     ]
    }
   ],
   "source": [
    "# same like lists, we can include any kinda data type as tuple element\n",
    "\n",
    "new = (\"khan\", \"zeeshan\", 777)\n",
    "print(new)"
   ]
  },
  {
   "cell_type": "code",
   "execution_count": null,
   "metadata": {},
   "outputs": [],
   "source": []
  }
 ],
 "metadata": {
  "kernelspec": {
   "display_name": "Python 3",
   "language": "python",
   "name": "python3"
  },
  "language_info": {
   "codemirror_mode": {
    "name": "ipython",
    "version": 3
   },
   "file_extension": ".py",
   "mimetype": "text/x-python",
   "name": "python",
   "nbconvert_exporter": "python",
   "pygments_lexer": "ipython3",
   "version": "3.7.1"
  }
 },
 "nbformat": 4,
 "nbformat_minor": 2
}
